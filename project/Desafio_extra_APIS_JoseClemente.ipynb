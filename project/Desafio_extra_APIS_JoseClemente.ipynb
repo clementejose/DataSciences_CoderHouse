{
 "cells": [
  {
   "cell_type": "markdown",
   "metadata": {},
   "source": [
    "# API Mercado libre (ML_api)\n"
   ]
  },
  {
   "cell_type": "code",
   "execution_count": 16,
   "metadata": {},
   "outputs": [],
   "source": [
    "# Imports necesarios\n",
    "import requests\n",
    "from bs4 import BeautifulSoup\n",
    "import re\n",
    "from lxml import etree\n",
    "import pandas as pd"
   ]
  },
  {
   "cell_type": "code",
   "execution_count": 17,
   "metadata": {},
   "outputs": [],
   "source": [
    "r = requests.get(\"https://listado.mercadolibre.com.ar/departamento\")"
   ]
  },
  {
   "cell_type": "code",
   "execution_count": 18,
   "metadata": {},
   "outputs": [
    {
     "data": {
      "text/plain": [
       "200"
      ]
     },
     "execution_count": 18,
     "metadata": {},
     "output_type": "execute_result"
    }
   ],
   "source": [
    "r.status_code"
   ]
  },
  {
   "cell_type": "code",
   "execution_count": 19,
   "metadata": {},
   "outputs": [],
   "source": [
    "soup = BeautifulSoup(r.content, 'html.parser')"
   ]
  },
  {
   "cell_type": "markdown",
   "metadata": {},
   "source": [
    "<div class=\"alert alert-block alert-success\">\n",
    "    <b>To do:</b>\n",
    "    ver //li[@class=\"ui-search-layout__item\"]\n",
    "    esta clase me trae todo el contenido en el post de portada\n",
    "</div>\n",
    "\n",
    "Entran 48 publicaciones por página y hay 42 páginas."
   ]
  },
  {
   "cell_type": "code",
   "execution_count": 20,
   "metadata": {},
   "outputs": [
    {
     "data": {
      "text/plain": [
       "'2 Amb D U E Ñ O Contrafrente Con Balcon Frances Luminoso Cerca Subte Exp $ 6.500'"
      ]
     },
     "execution_count": 20,
     "metadata": {},
     "output_type": "execute_result"
    }
   ],
   "source": [
    "titulos = soup.find_all(\"h2\", attrs={\"class\": \"ui-search-item__title ui-search-item__group__element shops__items-group-details shops__item-title\"})\n",
    "\n",
    "titulos = [t.text for t in titulos]\n",
    "titulos[0]"
   ]
  },
  {
   "cell_type": "code",
   "execution_count": 21,
   "metadata": {},
   "outputs": [
    {
     "data": {
      "text/plain": [
       "'62900 pesos$62.90039 m² cubiertos2 ambs.Departamento en alquiler2 Amb D U E Ñ O Contrafrente Con Balcon Frances Luminoso Cerca Subte Exp $ 6.500Vera 677, Buenos Aires, Argentina, Villa Crespo, Capital Federal'"
      ]
     },
     "execution_count": 21,
     "metadata": {},
     "output_type": "execute_result"
    }
   ],
   "source": [
    "# encuntra todo el copete de la publicación\n",
    "short_des = soup.find_all(\"a\", {\"class\": \"ui-search-result__content ui-search-link\"})#\"price-tag-text-sr-only\"})#\"price-t\n",
    "\n",
    "short_des = [sd.text for sd in short_des]\n",
    "short_des[0]"
   ]
  },
  {
   "cell_type": "code",
   "execution_count": 22,
   "metadata": {},
   "outputs": [
    {
     "data": {
      "text/plain": [
       "'62900 pesos'"
      ]
     },
     "execution_count": 22,
     "metadata": {},
     "output_type": "execute_result"
    }
   ],
   "source": [
    "#//li[@class=\"ui-search-layout__item\"]//span[@class=\"price-tag-text-sr-only\"]\n",
    "dom = etree.HTML(str(soup))\n",
    "price = dom.xpath('//li[@class=\"ui-search-layout__item\"]//span[@class=\"price-tag-text-sr-only\"]')\n",
    "\n",
    "price = [p.text for p in price]\n",
    "price[0]"
   ]
  },
  {
   "cell_type": "code",
   "execution_count": 23,
   "metadata": {},
   "outputs": [
    {
     "data": {
      "text/plain": [
       "'Vera 677, Buenos Aires, Argentina, Villa Crespo, Capital Federal'"
      ]
     },
     "execution_count": 23,
     "metadata": {},
     "output_type": "execute_result"
    }
   ],
   "source": [
    "# //li[@class=\"ui-search-layout__item\"]/div/div/a[@class=\"ui-search-result__content ui-search-link\"]//div//div//span[@class=\"ui-search-item__group__element ui-search-item__location shops__items-group-details\"]\n",
    "address = dom.xpath('//li[@class=\"ui-search-layout__item\"]/div/div/a[@class=\"ui-search-result__content ui-search-link\"]//div//div//span[@class=\"ui-search-item__group__element ui-search-item__location shops__items-group-details\"]')\n",
    "\n",
    "address = [a.text for a in address]\n",
    "address[0]"
   ]
  },
  {
   "cell_type": "code",
   "execution_count": 24,
   "metadata": {},
   "outputs": [
    {
     "data": {
      "text/plain": [
       "'39 m² cubiertos2 ambs.'"
      ]
     },
     "execution_count": 24,
     "metadata": {},
     "output_type": "execute_result"
    }
   ],
   "source": [
    "# //ul[@class=\"ui-search-card-attributes ui-search-item__group__element shops__items-group-details\"]\n",
    "supcover_room = soup.find_all(\"ul\", {\"class\": \"ui-search-card-attributes ui-search-item__group__element shops__items-group-details\"})\n",
    "\n",
    "supcover_room = [sr.text for sr in supcover_room]\n",
    "supcover_room[0]"
   ]
  },
  {
   "cell_type": "code",
   "execution_count": 25,
   "metadata": {},
   "outputs": [],
   "source": [
    "#df = pd.DataFrame({'title': titulos, 'description': short_des, 'address': address, 'supcover_room': supcover_room})"
   ]
  },
  {
   "cell_type": "code",
   "execution_count": 26,
   "metadata": {},
   "outputs": [],
   "source": [
    "xpth = '//div[@class=\"ui-search-pagination shops__pagination-content\"]/ul/li[contains(@class,\"--next\")]/a'\n",
    "siguiente = dom.xpath(xpth)[0].get('href')"
   ]
  },
  {
   "cell_type": "code",
   "execution_count": 27,
   "metadata": {},
   "outputs": [],
   "source": [
    "# //span[@class=\"andes-pagination__link\"]\n",
    "ini = soup.find_all(\"span\", attrs={\"class\": \"andes-pagination__link\"})[0].text\n",
    "ini = int(ini)"
   ]
  },
  {
   "cell_type": "code",
   "execution_count": 28,
   "metadata": {},
   "outputs": [],
   "source": [
    "tot = soup.find_all(\"li\", attrs={\"class\": \"andes-pagination__page-count\"})[0].text.split()[1]\n",
    "tot = int(tot)"
   ]
  },
  {
   "cell_type": "code",
   "execution_count": 29,
   "metadata": {},
   "outputs": [],
   "source": [
    "l_title = []\n",
    "l_descrip = []\n",
    "l_address = []\n",
    "l_surface = []\n",
    "l_price = []"
   ]
  },
  {
   "cell_type": "code",
   "execution_count": 15,
   "metadata": {},
   "outputs": [
    {
     "name": "stdout",
     "output_type": "stream",
     "text": [
      "1 42\n",
      "2 42\n",
      "3 42\n",
      "4 42\n",
      "5 42\n",
      "6 42\n",
      "7 42\n",
      "8 42\n",
      "9 42\n",
      "10 42\n",
      "11 42\n",
      "12 42\n",
      "13 42\n",
      "14 42\n",
      "15 42\n",
      "16 42\n",
      "17 42\n",
      "18 42\n",
      "19 42\n",
      "20 42\n",
      "21 42\n",
      "22 42\n",
      "23 42\n",
      "24 42\n",
      "25 42\n",
      "26 42\n",
      "27 42\n",
      "28 42\n",
      "29 42\n",
      "30 42\n",
      "31 42\n",
      "32 42\n",
      "33 42\n",
      "34 42\n",
      "35 42\n",
      "36 42\n",
      "37 42\n",
      "38 42\n",
      "39 42\n",
      "40 42\n",
      "41 42\n",
      "42 42\n"
     ]
    }
   ],
   "source": [
    "siguiente = 'https://listado.mercadolibre.com.ar/departamento' \n",
    "while True:\n",
    "    r = requests.get(siguiente)\n",
    "    if r.status_code == 200:\n",
    "        soup = BeautifulSoup(r.content, 'html.parser')\n",
    "        #Titulos\n",
    "        titles = soup.find_all(\"h2\", attrs={\"class\": \"ui-search-item__title ui-search-item__group__element shops__items-group-details shops__item-title\"})\n",
    "        titles = [t.text for t in titles]\n",
    "        l_title.extend(titles)\n",
    "        # Descripción\n",
    "        short_des = soup.find_all(\"a\", {\"class\": \"ui-search-result__content ui-search-link\"})#\"price-tag-text-sr-only\"})#\"price-t\n",
    "        short_des = [sd.text for sd in short_des]\n",
    "        l_descrip.extend(short_des)\n",
    "        # Dirección\n",
    "        dom = etree.HTML(str(soup))\n",
    "        address = dom.xpath('//li[@class=\"ui-search-layout__item\"]/div/div/a[@class=\"ui-search-result__content ui-search-link\"]//div//div//span[@class=\"ui-search-item__group__element ui-search-item__location shops__items-group-details\"]')\n",
    "        address = [a.text for a in address]\n",
    "        l_address.extend(address)\n",
    "        # Superficie\n",
    "        surfcover_room = soup.find_all(\"ul\", {\"class\": \"ui-search-card-attributes ui-search-item__group__element shops__items-group-details\"})\n",
    "        surfcover_room = [sr.text for sr in surfcover_room]\n",
    "        l_surface.extend(surfcover_room)\n",
    "        # Precios\n",
    "        dom = etree.HTML(str(soup))\n",
    "        price = dom.xpath('//li[@class=\"ui-search-layout__item\"]//span[@class=\"price-tag-text-sr-only\"]')\n",
    "        price = [p.text for p in price]\n",
    "        l_price.extend(price)\n",
    "        \n",
    "        # Validación de la ppaginación\n",
    "        ini = soup.find_all(\"span\", attrs={\"class\": \"andes-pagination__link\"})[0].text\n",
    "        ini = int(ini)\n",
    "        tot = soup.find_all(\"li\", attrs={\"class\": \"andes-pagination__page-count\"})[0].text.split()[1]\n",
    "        tot = int(tot)\n",
    "        \n",
    "    else:\n",
    "        break\n",
    "    print(ini, tot)\n",
    "    if ini == tot:\n",
    "        break\n",
    "    siguiente = dom.xpath('//div[@class=\"ui-search-pagination shops__pagination-content\"]/ul/li[contains(@class,\"--next\")]/a')[0].get('href')\n",
    "        "
   ]
  },
  {
   "cell_type": "code",
   "execution_count": 16,
   "metadata": {},
   "outputs": [
    {
     "name": "stdout",
     "output_type": "stream",
     "text": [
      "2016\n",
      "2016\n",
      "2016\n",
      "2016\n",
      "2016\n"
     ]
    }
   ],
   "source": [
    "print(len(l_title))\n",
    "print(len(l_descrip))\n",
    "print(len(l_address))\n",
    "print(len(l_surface))\n",
    "print(len(l_price))"
   ]
  },
  {
   "cell_type": "code",
   "execution_count": 17,
   "metadata": {},
   "outputs": [],
   "source": [
    "df = pd.DataFrame({'title': titulos,\n",
    "                   'description': short_des,\n",
    "                   'address': address,\n",
    "                   'supcover_room': supcover_room}\n",
    "                 )"
   ]
  },
  {
   "cell_type": "code",
   "execution_count": null,
   "metadata": {},
   "outputs": [],
   "source": []
  }
 ],
 "metadata": {
  "kernelspec": {
   "display_name": "Python 3 (ipykernel)",
   "language": "python",
   "name": "python3"
  },
  "language_info": {
   "codemirror_mode": {
    "name": "ipython",
    "version": 3
   },
   "file_extension": ".py",
   "mimetype": "text/x-python",
   "name": "python",
   "nbconvert_exporter": "python",
   "pygments_lexer": "ipython3",
   "version": "3.9.12"
  },
  "vscode": {
   "interpreter": {
    "hash": "6bd89e60d51315fb555c9a70d508a05468e1ff8576e1fc2c5b84d3255ee2551d"
   }
  }
 },
 "nbformat": 4,
 "nbformat_minor": 2
}
