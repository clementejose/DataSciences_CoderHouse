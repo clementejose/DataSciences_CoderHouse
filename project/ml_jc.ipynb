{
 "cells": [
  {
   "cell_type": "code",
   "execution_count": 2,
   "metadata": {},
   "outputs": [],
   "source": [
    "# Imports necesarios\n",
    "import requests\n",
    "from bs4 import BeautifulSoup\n",
    "import re\n",
    "from lxml import etree\n",
    "import pandas as pd\n",
    "import json\n",
    "from pprint import pprint"
   ]
  },
  {
   "cell_type": "code",
   "execution_count": 46,
   "metadata": {},
   "outputs": [
    {
     "data": {
      "text/plain": [
       "'https://api.mercadolibre.com/items/Casas&date_from=2021-01-01&date_to=2022-02-01'"
      ]
     },
     "execution_count": 46,
     "metadata": {},
     "output_type": "execute_result"
    }
   ],
   "source": [
    "def ml_url(url='https://api.mercadolibre.com', method='category', product=None, **filters):\n",
    "\n",
    "    property_type = {\n",
    "    'departamentos': 'MLA1472',\n",
    "    'casas': 'MLA1466',\n",
    "    'terrenos_lotes': 'MLA1493',\n",
    "    'phs': 'MLA105179',\n",
    "    'locales': 'MLA79242',\n",
    "    'oficinas': 'MLA50538',\n",
    "    'depositos_galpones': 'MLA1475',\n",
    "    'cocheras': 'MLA50541',\n",
    "    'campos': 'MLA1496',\n",
    "    'quintas': 'MLA50547',\n",
    "    }\n",
    "    try:\n",
    "        if method == 'items' and product == None:\n",
    "            raise ValueError(f'Se requiere id de producto, product = {product}')\n",
    "        elif method == 'items' and product is not None:\n",
    "            url = f'{url}/items/{product}'\n",
    "        elif product == None:\n",
    "            url = f'{url}/sites/MLA/search?{method}='\n",
    "        elif product.lower() in property_type.keys():\n",
    "            url = f'{url}/sites/MLA/search?{method}={property_type[product.lower()]}'\n",
    "        else:\n",
    "            url = f'{url}/search?{method}={product.lower()}'\n",
    "        if filters is not None:\n",
    "            for f, v in filters.items():\n",
    "                url += f'&{f}={v}'\n",
    "    except ValueError as e:\n",
    "        print(f'No se pudo generar la url\\n{e}')\n",
    "        \n",
    "    return url\n",
    "\n",
    "ml_url(product='Casas', method='items', date_from=\"2021-01-01\", date_to=\"2022-02-01\")"
   ]
  },
  {
   "cell_type": "code",
   "execution_count": 47,
   "metadata": {},
   "outputs": [
    {
     "name": "stdout",
     "output_type": "stream",
     "text": [
      "No se pudo generar la url\n",
      "Se requiere id de producto, product = None\n",
      "\n"
     ]
    }
   ],
   "source": [
    "# https://api.mercadolibre.com/items/MLA1216652308\n",
    "r = ml_url(method='items')"
   ]
  },
  {
   "cell_type": "markdown",
   "metadata": {},
   "source": []
  },
  {
   "cell_type": "code",
   "execution_count": 48,
   "metadata": {},
   "outputs": [
    {
     "data": {
      "text/plain": [
       "'https://api.mercadolibre.com'"
      ]
     },
     "execution_count": 48,
     "metadata": {},
     "output_type": "execute_result"
    }
   ],
   "source": [
    "r"
   ]
  }
 ],
 "metadata": {
  "kernelspec": {
   "display_name": "Python 3.9.12 ('coderhouse')",
   "language": "python",
   "name": "python3"
  },
  "language_info": {
   "codemirror_mode": {
    "name": "ipython",
    "version": 3
   },
   "file_extension": ".py",
   "mimetype": "text/x-python",
   "name": "python",
   "nbconvert_exporter": "python",
   "pygments_lexer": "ipython3",
   "version": "3.9.12"
  },
  "orig_nbformat": 4,
  "vscode": {
   "interpreter": {
    "hash": "6bd89e60d51315fb555c9a70d508a05468e1ff8576e1fc2c5b84d3255ee2551d"
   }
  }
 },
 "nbformat": 4,
 "nbformat_minor": 2
}
