{
 "cells": [
  {
   "cell_type": "markdown",
   "metadata": {},
   "source": [
    "# API Mercado libre (ML_api)"
   ]
  },
  {
   "cell_type": "markdown",
   "metadata": {},
   "source": [
    "El objetivo es poder armar un dataset con registros de inmuebles publicados en la página de mercado libre.\n",
    "Los datos de clasidicados son públicos, detallan precios, condiciones de venta/alquiler, características y zonificación del inmueble.\n",
    "Estos datos publicados por Mercado Libre (ML) en su página http://www.mercadolibre.com.ar son registrados por propietarios o agentes inmobiliarios para su libre consulta.\n",
    "\n",
    "\n",
    "Para mayor detalle inspeccionar la pág oficial de ML."
   ]
  },
  {
   "cell_type": "code",
   "execution_count": 2,
   "metadata": {},
   "outputs": [],
   "source": [
    "# Imports necesarios\n",
    "import requests\n",
    "from bs4 import BeautifulSoup\n",
    "import re\n",
    "from lxml import etree\n",
    "import pandas as pd\n",
    "import json\n",
    "from pprint import pprint\n",
    "import numpy as np\n",
    "import time"
   ]
  },
  {
   "cell_type": "markdown",
   "metadata": {},
   "source": [
    "### API Mercado libre: _propiedades_.\n",
    "\n",
    "Vamos a hacer peticiones (GET) a la api pública de mercado libre.\n",
    "\n",
    "La búsqueda puede ser performada por query (consulta global) o category (dirigida a una categoría):\n",
    "\n",
    "Performs a search by query\n",
    "\n",
    "    GET\n",
    "        /sites/MLA/search?q=\n",
    "\n",
    "Performs a search by category\n",
    "\n",
    "    GET\n",
    "        /sites/MLA/search?category=\n",
    "\n",
    "Performs a search by seller_id\n",
    "\n",
    "    GET\n",
    "        /sites/MLA/search?seller_id=\n",
    "\n",
    "Performs a search by nickname\n",
    "\n",
    "    GET\n",
    "        /sites/MLA/search?nickname=\n",
    "\n",
    "Performs a search by special filters\n",
    "\n",
    "    GET\n",
    "        /sites/MLA/search?special_filter=\n",
    "\n",
    "Performs a search with a specific sorting method\n",
    "\n",
    "    GET\n",
    "        /sites/MLA/search?q=ipod&sort=sortId=\n",
    "\n",
    "Performs a search applying filters\n",
    "\n",
    "    GET\n",
    "        /sites/MLA/search?q=ipod&FilterID=FilterValue\n",
    "\n",
    "En el header tiene los siguientes parámetros {code} que podemos modificar\n",
    "\n",
    "Utilizaremos el siguiente métos pero inspeccionaremos el funcionamiento de otras búsquedas.\n",
    "\n",
    "url:\n",
    "\n",
    "    https://api.mercadolibre.com/sites/MLA/search?category={code}&_PublishedToday_{code}_&limit={code}&offset={code}\n",
    "\n",
    "Parámetros por categoría:\n",
    "\n",
    "    **search?category**\n",
    "    Tipo de propiedades (in la terminación luego de _ aplica a toda operación 'venta', 'alquiler', etc.)\n",
    "    casas = 'MLA1466' #_242075_242060'\n",
    "    campos = 'MLA1496_242059'\n",
    "    cocheras = 'MLA50541_267198'\n",
    "    departamentos = 'MLA1472_242062'\n",
    "    depositos_galpones = 'MLA1475_245003'\n",
    "    locales = 'MLA79242_242065'\n",
    "    oficinas = 'MLA50538_242067'\n",
    "    phs = 'MLA105179_242069'\n",
    "    quintas = 'MLA50547_242070'\n",
    "    terrenos_lotes = 'MLA1493_242071'\n",
    "\n",
    "Tiempo de publicación:\n",
    "\n",
    "    **_PublishedToday_** \n",
    "    ('YES', 'NO')\n",
    "    \n",
    "paginación\n",
    "\n",
    "    **limit**\n",
    "    máx = 50\n",
    "\n",
    "    **offset**\n",
    "    número de paginación\n",
    "    0, 1 , ..., n\n",
    "\n",
    "códigos de operación\n",
    "\n",
    "    venta = 242075, alquiler = 242073, alquiler_temporal = 242074"
   ]
  },
  {
   "cell_type": "markdown",
   "metadata": {},
   "source": [
    "# Propiedades de interes."
   ]
  },
  {
   "cell_type": "code",
   "execution_count": 3,
   "metadata": {},
   "outputs": [],
   "source": [
    "# Hay más, estas son las de interes por category id\n",
    "property_type = {\n",
    "    'departamentos': 'MLA1472',\n",
    "    'casas': 'MLA1466',\n",
    "    'terrenos_lotes': 'MLA1493',\n",
    "    'phs': 'MLA105179',\n",
    "    'locales': 'MLA79242',\n",
    "    'oficinas': 'MLA50538',\n",
    "    'depositos_galpones': 'MLA1475',\n",
    "    'cocheras': 'MLA50541',\n",
    "    'campos': 'MLA1496',\n",
    "    'quintas': 'MLA50547',\n",
    "}"
   ]
  },
  {
   "cell_type": "markdown",
   "metadata": {},
   "source": [
    "# Estuctura de la respuesta a la API"
   ]
  },
  {
   "cell_type": "markdown",
   "metadata": {},
   "source": [
    "### Data response:\n",
    "\n",
    "    {\n",
    "      \"site_id\": \"MLA\",\n",
    "      \"country_default_time_zone\": \"GMT-03:00\",\n",
    "      \"paging\": {},\n",
    "      \"results\": [],\n",
    "      \"sort\": {},\n",
    "      \"available_sorts\": [],\n",
    "      \"filters\": [],\n",
    "      \"available_filters\": []\n",
    "    }"
   ]
  },
  {
   "cell_type": "markdown",
   "metadata": {},
   "source": [
    "Referencia al citio y la zona.\n",
    "    \n",
    "    \"site_id\": \"MLA\"\n",
    "    \"country_default_time_zone\": \"GMT-03:00\"\n",
    "\n",
    "Información de la búsqueda y paginación de la request.\n",
    "    \n",
    "    \"paging\": {\n",
    "        \"total\": 219007,            # Total de registros para búsqueda.\n",
    "        \"primary_results\": 1000,    # Registros relevantes?\n",
    "        \"offset\": 0,                # Inico de búsqueda del [0 ; total/limit) devuelve \"_limit_\" registros\n",
    "        \"limit\": 50,                # Registros devueltos (máx 50) por petición\n",
    "\n",
    "Informacion requerida.\n",
    "\n",
    "    \"results\": []                   # len(\"results\") = limit, siempre que no sea la última página."
   ]
  },
  {
   "cell_type": "markdown",
   "metadata": {},
   "source": [
    "# Inspección de prueba"
   ]
  },
  {
   "cell_type": "markdown",
   "metadata": {},
   "source": [
    "hacemos una petición de un solo registro para conocer la estructura de la información."
   ]
  },
  {
   "cell_type": "code",
   "execution_count": 4,
   "metadata": {},
   "outputs": [],
   "source": [
    "# Prueba\n",
    "#: params\n",
    "today = 'YES'\n",
    "# Parámetros mínimos para inspección de estructura.\n",
    "limit = 3\n",
    "offs = 0"
   ]
  },
  {
   "cell_type": "code",
   "execution_count": 5,
   "metadata": {},
   "outputs": [],
   "source": [
    "# url = \"https://api.mercadolibre.com/sites/MLA/search?q=Departamentos&date_from=2021-01-01&date_to=2022-02-01&limit=3\"\n",
    "# r = requests.get(url)\n",
    "# r.status_code"
   ]
  },
  {
   "cell_type": "code",
   "execution_count": 6,
   "metadata": {},
   "outputs": [
    {
     "data": {
      "text/plain": [
       "200"
      ]
     },
     "execution_count": 6,
     "metadata": {},
     "output_type": "execute_result"
    }
   ],
   "source": [
    "#'https://api.mercadolibre.com/sites/MLA/search?category=¿?&_PublishedToday_¿?limit=¿?&offset=¿?' # f'search?q=Departamentos'\\\n",
    "api = f'https://api.mercadolibre.com/sites/MLA/'\\\n",
    "        f'search?category={property_type[\"departamentos\"]}'\\\n",
    "        f'&_PublishedToday_{today}'\\\n",
    "        f'&limit={limit}'\\\n",
    "        f'&offset={offs}'\n",
    "\n",
    "r = requests.get(api)\n",
    "r.status_code\n"
   ]
  },
  {
   "cell_type": "markdown",
   "metadata": {},
   "source": [
    "## Observando la respuesta\n",
    "\n",
    "Buscamos ver como se estructuran los datos para resgistrar solo aquellos que puedan ser de interes."
   ]
  },
  {
   "cell_type": "code",
   "execution_count": 7,
   "metadata": {},
   "outputs": [
    {
     "data": {
      "text/plain": [
       "(dict,\n",
       " 8,\n",
       " dict_keys(['site_id', 'country_default_time_zone', 'paging', 'results', 'sort', 'available_sorts', 'filters', 'available_filters']))"
      ]
     },
     "execution_count": 7,
     "metadata": {},
     "output_type": "execute_result"
    }
   ],
   "source": [
    "data = json.loads(r.content)\n",
    "\n",
    "type(data), len(data), data.keys()"
   ]
  },
  {
   "cell_type": "markdown",
   "metadata": {},
   "source": [
    "Vemos que el json de respuesta contiene 8 entradas.\n",
    "Veamos que información trae cada una de ellas."
   ]
  },
  {
   "cell_type": "code",
   "execution_count": 8,
   "metadata": {},
   "outputs": [
    {
     "name": "stdout",
     "output_type": "stream",
     "text": [
      "0 -> key:  site_id\n",
      "'MLA'\n",
      "----------------------------------------\n",
      "1 -> key:  country_default_time_zone\n",
      "'GMT-03:00'\n",
      "----------------------------------------\n",
      "2 -> key:  paging\n",
      "{'limit': 3, 'offset': 0, 'primary_results': 1000, 'total': 277984}\n",
      "----------------------------------------\n",
      "4 -> key:  sort\n",
      "{'id': 'relevance', 'name': 'Más relevantes'}\n",
      "----------------------------------------\n",
      "5 -> key:  available_sorts\n",
      "[{'id': 'price_asc', 'name': 'Menor precio'},\n",
      " {'id': 'price_desc', 'name': 'Mayor precio'}]\n",
      "----------------------------------------\n",
      "6 -> key:  filters\n",
      "[{'id': 'category',\n",
      "  'name': 'Categorías',\n",
      "  'type': 'text',\n",
      "  'values': [{'id': 'MLA1472',\n",
      "              'name': 'Departamentos',\n",
      "              'path_from_root': [{'id': 'MLA1459', 'name': 'Inmuebles'},\n",
      "                                 {'id': 'MLA1472', 'name': 'Departamentos'}]}]}]\n",
      "----------------------------------------\n"
     ]
    }
   ],
   "source": [
    "for i, key in enumerate(data):\n",
    "    # result and avilable_filters: inspección por separado.\n",
    "    if key != 'results' and key != 'available_filters':\n",
    "        print(i ,'-> key: ',key)\n",
    "        pprint(data[key])\n",
    "        print(40*'-')\n"
   ]
  },
  {
   "cell_type": "markdown",
   "metadata": {},
   "source": [
    "## 'available_filters'"
   ]
  },
  {
   "cell_type": "code",
   "execution_count": 9,
   "metadata": {},
   "outputs": [
    {
     "data": {
      "text/plain": [
       "(list, 32)"
      ]
     },
     "execution_count": 9,
     "metadata": {},
     "output_type": "execute_result"
    }
   ],
   "source": [
    "type(data['available_filters']), len(data['available_filters'])"
   ]
  },
  {
   "cell_type": "markdown",
   "metadata": {},
   "source": [
    "aviable_filter contiene 32 variables.\n",
    "\n",
    "Diccionarios con 4 llaves. Contiene los filtros hablitados en la variable filter.\n",
    "\n",
    "    ['id', 'name', 'type', 'values']\n"
   ]
  },
  {
   "cell_type": "code",
   "execution_count": 10,
   "metadata": {},
   "outputs": [
    {
     "name": "stdout",
     "output_type": "stream",
     "text": [
      "0 -> id = official_store:\n",
      "Tiendas oficiales[text]: [{'id': 'all', 'name': 'Todas las tiendas oficiales', 'results': 36617}, {'id': '2973', 'name': 'Tormes Propiedades', 'results': 254}, {'id': '2810', 'name': 'Miranda Bosch', 'results': 568}, {'id': '2695', 'name': 'Goldstein Propiedades', 'results': 676}, {'id': '2743', 'name': 'Sistema Coldwell Banker', 'results': 1961}, {'id': '2777', 'name': 'Sarro Pucheta Propiedades', 'results': 505}, {'id': '3013', 'name': 'Gilges Inmobiliaria', 'results': 281}, {'id': '2969', 'name': 'Turdo Estudio Inmobiliario', 'results': 57}]\n",
      "--------------------------------------------------\n",
      "1 -> id = state:\n",
      "Ubicación[text]: [{'id': 'TUxBUENBUGw3M2E1', 'name': 'Capital Federal', 'results': 83535}, {'id': 'TUxBUENPU2ExMmFkMw', 'name': 'Bs.As. Costa Atlántica', 'results': 34486}, {'id': 'TUxBUEdSQWU4ZDkz', 'name': 'Bs.As. G.B.A. Norte', 'results': 33156}, {'id': 'TUxBUFNBTmU5Nzk2', 'name': 'Santa Fe', 'results': 28672}, {'id': 'TUxBUEdSQWVmNTVm', 'name': 'Bs.As. G.B.A. Oeste', 'results': 27441}, {'id': 'TUxBUEdSQXJlMDNm', 'name': 'Bs.As. G.B.A. Sur', 'results': 25372}, {'id': 'TUxBUFVSVXllZDVl', 'name': 'Uruguay', 'results': 18424}, {'id': 'TUxBUENPUmFkZGIw', 'name': 'Córdoba', 'results': 12157}, {'id': 'TUxBUFpPTmFpbnRl', 'name': 'Buenos Aires Interior', 'results': 5656}, {'id': 'TUxBUFLNT29iZmZm', 'name': 'Río Negro', 'results': 1792}, {'id': 'TUxBUFVTQWl1cXdlMg', 'name': 'USA', 'results': 1680}, {'id': 'TUxBUE5FVW4xMzMzNQ', 'name': 'Neuquén', 'results': 1625}, {'id': 'TUxBUE1FTmE5OWQ4', 'name': 'Mendoza', 'results': 1008}, {'id': 'TUxBUEVOVHMzNTdm', 'name': 'Entre Ríos', 'results': 616}, {'id': 'TUxBUFRVQ244NmM3', 'name': 'Tucumán', 'results': 616}, {'id': 'TUxBUE1JU3MzNjIx', 'name': 'Misiones', 'results': 448}, {'id': 'TUxBUFNBTGFjMTJi', 'name': 'Salta', 'results': 392}, {'id': 'TUxBUEJSQWwyMzA1', 'name': 'Brasil', 'results': 224}, {'id': 'TUxBUFNBTnM0ZTcz', 'name': 'San Luis', 'results': 112}, {'id': 'TUxBUFRJRVoxM2M5YQ', 'name': 'Tierra del Fuego', 'results': 112}, {'id': 'TUxBUENIVXQxNDM1MQ', 'name': 'Chubut', 'results': 56}, {'id': 'TUxBUEpVSnk3YmUz', 'name': 'Jujuy', 'results': 56}, {'id': 'TUxBUFNBTm5lYjU4', 'name': 'San Juan', 'results': 56}, {'id': 'TUxBUFNBTm9lOTlk', 'name': 'Santiago del Estero', 'results': 56}]\n",
      "--------------------------------------------------\n",
      "2 -> id = price:\n",
      "Precio[range]: [{'id': '*-1.0E7', 'name': 'Hasta $ 10.000.000', 'results': 81304}, {'id': '1.0E7-2.0E7', 'name': '$10.000.000 a $20.000.000', 'results': 96622}, {'id': '2.0E7-*', 'name': 'Más de $20.000.000', 'results': 100046}]\n",
      "--------------------------------------------------\n",
      "3 -> id = power_seller:\n",
      "Filtro por calidad de vendedores[boolean]: [{'id': 'yes', 'name': 'Mejores vendedores', 'results': 168}]\n",
      "--------------------------------------------------\n",
      "4 -> id = since:\n",
      "Filtro por fecha de comienzo[text]: [{'id': 'today', 'name': 'Publicados hoy', 'results': 785}]\n",
      "--------------------------------------------------\n",
      "5 -> id = until:\n",
      "Filtro por fecha de finalización[text]: [{'id': 'today', 'name': 'Finalizan hoy', 'results': 224}]\n",
      "--------------------------------------------------\n",
      "6 -> id = has_video:\n",
      "Filtro por publicaciones con video[boolean]: [{'id': 'yes', 'name': 'Publicaciones con video', 'results': 37994}]\n",
      "--------------------------------------------------\n",
      "7 -> id = has_pictures:\n",
      "Filtro por publicaciones con imágenes[boolean]: [{'id': 'yes', 'name': 'Con fotos', 'results': 277412}]\n",
      "--------------------------------------------------\n",
      "8 -> id = seller_type:\n",
      "Vendedor[text]: [{'id': 'real_estate_agency', 'name': 'Inmobiliaria', 'results': 263685}, {'id': 'private_seller', 'name': 'Dueño directo', 'results': 14287}]\n",
      "--------------------------------------------------\n",
      "9 -> id = BEDROOMS:\n",
      "Dormitorios[range]: [{'id': '[0-0]', 'name': 'Monoambiente', 'results': 31482}, {'id': '[1-1]', 'name': '1 dormitorio', 'results': 119826}, {'id': '[2-2]', 'name': '2 dormitorios', 'results': 83592}, {'id': '[3-3]', 'name': '3 dormitorios', 'results': 33858}, {'id': '[4-*)', 'name': '4 dormitorios o más', 'results': 5778}]\n",
      "--------------------------------------------------\n",
      "10 -> id = COVERED_AREA:\n",
      "Superficie cubierta[range]: [{'id': '(*-40m²]', 'name': '40 m² cubiertos o menos', 'results': 81540}, {'id': '[40m²-50m²]', 'name': '40 a 50 m² cubiertos', 'results': 67878}, {'id': '[50m²-70m²]', 'name': '50 a 70 m² cubiertos', 'results': 71928}, {'id': '[70m²-*)', 'name': '70 m² cubiertos o más', 'results': 82188}]\n",
      "--------------------------------------------------\n",
      "11 -> id = FULL_BATHROOMS:\n",
      "Baños[range]: [{'id': '[1-1]', 'name': '1 baño', 'results': 189000}, {'id': '[2-2]', 'name': '2 baños', 'results': 60480}, {'id': '[3-3]', 'name': '3 baños', 'results': 15336}, {'id': '[4-4]', 'name': '4 baños', 'results': 2322}, {'id': '[5-*)', 'name': '5 baños o más', 'results': 1134}]\n",
      "--------------------------------------------------\n",
      "12 -> id = HAS_AIR_CONDITIONING:\n",
      "Otras características[boolean]: [{'id': '242085', 'name': 'Con aire acondicionado', 'results': 59076}]\n",
      "--------------------------------------------------\n",
      "13 -> id = HAS_GARDEN:\n",
      "Otras características[boolean]: [{'id': '242085', 'name': 'Con jardín', 'results': 15012}]\n",
      "--------------------------------------------------\n",
      "14 -> id = HAS_GRILL:\n",
      "Otras características[boolean]: [{'id': '242085', 'name': 'Con parrilla', 'results': 42228}]\n",
      "--------------------------------------------------\n",
      "15 -> id = HAS_GYM:\n",
      "Otras características[boolean]: [{'id': '242085', 'name': 'Con gimnasio', 'results': 33858}]\n",
      "--------------------------------------------------\n",
      "16 -> id = HAS_HALF_BATH:\n",
      "Otras características[boolean]: [{'id': '242085', 'name': 'Con toilette', 'results': 45198}]\n",
      "--------------------------------------------------\n",
      "17 -> id = HAS_MULTIPURPOSE_ROOM:\n",
      "Otras características[boolean]: [{'id': '242085', 'name': 'Con salón de usos múltiples', 'results': 41526}]\n",
      "--------------------------------------------------\n",
      "18 -> id = HAS_SWIMMING_POOL:\n",
      "Otras características[boolean]: [{'id': '242085', 'name': 'Con pileta', 'results': 57132}]\n",
      "--------------------------------------------------\n",
      "19 -> id = IS_FINANCEABLE:\n",
      "Financiable[boolean]: [{'id': '242085', 'name': 'Es financiable', 'results': 9774}]\n",
      "--------------------------------------------------\n",
      "20 -> id = ITEM_CONDITION:\n",
      "Condición[STRING]: [{'id': '2230581', 'name': 'Usado', 'results': 154170}, {'id': '2230284', 'name': 'Nuevo', 'results': 99360}]\n",
      "--------------------------------------------------\n",
      "21 -> id = MAINTENANCE_FEE:\n",
      "Expensas[range]: [{'id': '(*-3000ARS)', 'name': '3.000 ARS o menos', 'results': 111510}, {'id': '[3000ARS-5500ARS]', 'name': '3.000 a 5.500 ARS', 'results': 23004}, {'id': '[5500ARS-10000ARS]', 'name': '5.500 a 10.000 ARS', 'results': 24084}, {'id': '[10000ARS-*)', 'name': '10.000 ARS o más', 'results': 37476}]\n",
      "--------------------------------------------------\n",
      "22 -> id = OPERATION:\n",
      "Operación[STRING]: [{'id': '242075', 'name': 'Venta', 'results': 244296}, {'id': '242074', 'name': 'Alquiler temporal', 'results': 19332}, {'id': '242073', 'name': 'Alquiler', 'results': 9720}]\n",
      "--------------------------------------------------\n",
      "23 -> id = OPERATION_SUBTYPE:\n",
      "Modalidad[STRING]: [{'id': '244562', 'name': 'Propiedades individuales', 'results': 243540}, {'id': '245034', 'name': 'Emprendimientos', 'results': 1242}]\n",
      "--------------------------------------------------\n",
      "24 -> id = PARKING_LOTS:\n",
      "Cocheras[range]: [{'id': '[0-0]', 'name': 'No tiene cocheras', 'results': 180522}, {'id': '[1-1]', 'name': '1 cochera', 'results': 83484}, {'id': '[2-2]', 'name': '2 cocheras', 'results': 8154}, {'id': '[3-3]', 'name': '3 cocheras', 'results': 648}, {'id': '[4-*)', 'name': '4 cocheras o más', 'results': 1134}]\n",
      "--------------------------------------------------\n",
      "25 -> id = PROFESSIONAL_USE_ALLOWED:\n",
      "Otras características[boolean]: [{'id': '242085', 'name': 'Apto profesional', 'results': 27540}]\n",
      "--------------------------------------------------\n",
      "26 -> id = PROPERTY_AGE:\n",
      "Antigüedad[range]: [{'id': '[0años-0años]', 'name': 'A estrenar', 'results': 88020}, {'id': '[1años-6años]', 'name': '1 a 6 años', 'results': 31806}, {'id': '[6años-25años]', 'name': '6 a 25 años', 'results': 35424}, {'id': '[25años-50años]', 'name': '25 a 50 años', 'results': 33264}, {'id': '[50años-*)', 'name': '50 años o más', 'results': 9126}]\n",
      "--------------------------------------------------\n",
      "27 -> id = PROPERTY_TYPE:\n",
      "Inmueble[STRING]: [{'id': '242062', 'name': 'Departamentos', 'results': 273348}]\n",
      "--------------------------------------------------\n",
      "28 -> id = ROOMS:\n",
      "Ambientes[range]: [{'id': '[1-1]', 'name': '1 ambiente', 'results': 42228}, {'id': '[2-2]', 'name': '2 ambientes', 'results': 102168}, {'id': '[3-3]', 'name': '3 ambientes', 'results': 77220}, {'id': '[4-*)', 'name': '4 ambientes o más', 'results': 44388}]\n",
      "--------------------------------------------------\n",
      "29 -> id = SUITABLE_FOR_MORTGAGE_LOAN:\n",
      "Apto crédito[boolean]: [{'id': '242085', 'name': 'Es apto crédito', 'results': 34992}]\n",
      "--------------------------------------------------\n",
      "30 -> id = TOTAL_AREA:\n",
      "Superficie total[range]: [{'id': '(*-45m²]', 'name': '45 m² totales o menos', 'results': 80568}, {'id': '[45m²-60m²]', 'name': '45 a 60 m² totales', 'results': 69498}, {'id': '[60m²-85m²]', 'name': '60 a 85 m² totales', 'results': 67176}, {'id': '[85m²-*)', 'name': '85 m² totales o más', 'results': 70038}]\n",
      "--------------------------------------------------\n",
      "31 -> id = WITH_VIRTUAL_TOUR:\n",
      "Multimedia[boolean]: [{'id': '242085', 'name': 'Tour virtual', 'results': 1134}]\n",
      "--------------------------------------------------\n"
     ]
    }
   ],
   "source": [
    "# Inspección de 'id', 'name', 'type', 'values'.\n",
    "for i, ty in enumerate (data['available_filters']):\n",
    "    print(f'{i} -> id = {ty[\"id\"]}:\\n{ty[\"name\"]}[{ty[\"type\"]}]: {ty[\"values\"]}', end=\"\\n\")\n",
    "    print(50*'-')"
   ]
  },
  {
   "cell_type": "markdown",
   "metadata": {},
   "source": [
    "#### Resumen _'_available_filter_'_\n",
    "\n",
    "Para atomizar el pedido a la API de ML se puede aplicar diferentes filtros concatenados utlizando\n",
    "* Grupo de la búsqueda:\n",
    "    /search?q=id o /search?category=id \n",
    "* Filtros concatendados:\n",
    "    &FilterID=FilterValue&FilterID=FilterValue  \n",
    "\n",
    "ejemplo:\n",
    "URI:\n",
    "'https://api.mercadolibre.com/sites/MLA/'\n",
    "\n",
    "| Búsqueda |  q_id_filter| category_id_filter|\n",
    "| --- | --- | --- |\n",
    "| propiedades = Departamento | /search?q=Departamentos | /search?category=MLA1472|\n",
    "\n",
    "URI:\n",
    "'https://api.mercadolibre.com/sites/MLA/search?category=MLA1472'\n",
    "\n",
    "| Filtro | filter_key | value | syntax |\n",
    "| --- | --- | --- | --- |\n",
    "| Antigüedad = 6 a 25 años | PROPERTY_AGE | [6años-25años] | &PROPERTY_AGE=[6años-25años] |\n",
    "| Ambientes = 3 y 4 | ROOMS | [3-4] | &ROOMS=[3-4] |\n",
    "| Ubicación = Capital Federal | state | TUxBUENBUGw3M2E1 | &state=TUxBUENBUGw3M2E1 |\n",
    "\n",
    "\n",
    "URI:\n",
    "'https://api.mercadolibre.com/sites/MLA/search?category=MLA1472&PROPERTY_AGE=[6años-25años]&ROOMS=[3-4]&state=TUxBUENBUGw3M2E1'\n"
   ]
  },
  {
   "cell_type": "markdown",
   "metadata": {},
   "source": [
    "\n"
   ]
  },
  {
   "cell_type": "markdown",
   "metadata": {},
   "source": [
    "## Inspección de 'results'"
   ]
  },
  {
   "cell_type": "code",
   "execution_count": 11,
   "metadata": {},
   "outputs": [
    {
     "data": {
      "text/plain": [
       "(3, list)"
      ]
     },
     "execution_count": 11,
     "metadata": {},
     "output_type": "execute_result"
    }
   ],
   "source": [
    "# # results\n",
    "len(data['results']), type(data['results'])"
   ]
  },
  {
   "cell_type": "markdown",
   "metadata": {},
   "source": [
    "Es una lista con un solo contenido.\n",
    "Veamos que tiene un dict con 41 varialbes."
   ]
  },
  {
   "cell_type": "code",
   "execution_count": 12,
   "metadata": {},
   "outputs": [
    {
     "data": {
      "text/plain": [
       "(41,\n",
       " dict,\n",
       " dict_keys(['id', 'site_id', 'title', 'seller', 'price', 'prices', 'sale_price', 'currency_id', 'available_quantity', 'sold_quantity', 'buying_mode', 'listing_type_id', 'stop_time', 'condition', 'permalink', 'thumbnail', 'thumbnail_id', 'accepts_mercadopago', 'installments', 'address', 'promotions', 'shipping', 'seller_address', 'seller_contact', 'location', 'attributes', 'original_price', 'category_id', 'official_store_id', 'domain_id', 'catalog_product_id', 'tags', 'order_backend', 'use_thumbnail_id', 'offer_score', 'offer_share', 'match_score', 'winner_item_id', 'melicoin', 'discounts', 'inventory_id']))"
      ]
     },
     "execution_count": 12,
     "metadata": {},
     "output_type": "execute_result"
    }
   ],
   "source": [
    "# results, largo, tipo y contenidos.\n",
    "len(data['results'][0]), type(data['results'][0]), data['results'][0].keys()"
   ]
  },
  {
   "cell_type": "markdown",
   "metadata": {},
   "source": [
    "Conte nidos de results[0]."
   ]
  },
  {
   "cell_type": "code",
   "execution_count": 13,
   "metadata": {},
   "outputs": [
    {
     "name": "stdout",
     "output_type": "stream",
     "text": [
      "0 -> id = id:\n",
      "Value = MLA1229495352\n",
      "--------------------------------------------------\n",
      "1 -> id = site_id:\n",
      "Value = MLA\n",
      "--------------------------------------------------\n",
      "2 -> id = title:\n",
      "Value = Depto Muy Luminoso - 2 Ambientes \n",
      "--------------------------------------------------\n",
      "3 -> id = seller:\n",
      "Value = {'id': 42642604, 'permalink': 'http://perfil.mercadolibre.com.ar/VIENTODECAMBIO2', 'registration_date': '2011-01-21T11:14:19.000-04:00', 'car_dealer': False, 'real_estate_agency': False, 'tags': ['normal', 'credits_profile', 'messages_as_seller'], 'seller_reputation': {'power_seller_status': None, 'level_id': None, 'metrics': {'cancellations': {'period': '60 months', 'rate': 0, 'value': 0}, 'claims': {'period': '60 months', 'rate': 0, 'value': 0}, 'delayed_handling_time': {'period': '60 months', 'rate': 0, 'value': 0}, 'sales': {'period': '60 months', 'completed': 0}}, 'transactions': {'canceled': 0, 'period': 'historic', 'total': 0, 'ratings': {'negative': 0, 'neutral': 0, 'positive': 0}, 'completed': 0}}}\n",
      "--------------------------------------------------\n",
      "4 -> id = price:\n",
      "Value = 65000\n",
      "--------------------------------------------------\n",
      "5 -> id = prices:\n",
      "Value = {'id': 'MLA1229495352', 'prices': [{'id': '1', 'type': 'standard', 'amount': 65000, 'regular_amount': None, 'currency_id': 'ARS', 'last_updated': '2022-11-07T23:42:54Z', 'conditions': {'context_restrictions': [], 'start_time': None, 'end_time': None, 'eligible': True}, 'exchange_rate_context': 'DEFAULT', 'metadata': {}}], 'presentation': {'display_currency': 'ARS'}, 'payment_method_prices': [], 'reference_prices': [], 'purchase_discounts': []}\n",
      "--------------------------------------------------\n",
      "6 -> id = sale_price:\n",
      "Value = None\n",
      "--------------------------------------------------\n",
      "7 -> id = currency_id:\n",
      "Value = ARS\n",
      "--------------------------------------------------\n",
      "8 -> id = available_quantity:\n",
      "Value = 1\n",
      "--------------------------------------------------\n",
      "9 -> id = sold_quantity:\n",
      "Value = 0\n",
      "--------------------------------------------------\n",
      "10 -> id = buying_mode:\n",
      "Value = classified\n",
      "--------------------------------------------------\n",
      "11 -> id = listing_type_id:\n",
      "Value = gold_premium\n",
      "--------------------------------------------------\n",
      "12 -> id = stop_time:\n",
      "Value = 2023-01-06T04:01:42.000Z\n",
      "--------------------------------------------------\n",
      "13 -> id = condition:\n",
      "Value = used\n",
      "--------------------------------------------------\n",
      "14 -> id = permalink:\n",
      "Value = https://departamento.mercadolibre.com.ar/MLA-1229495352-depto-muy-luminoso-2-ambientes-_JM\n",
      "--------------------------------------------------\n",
      "15 -> id = thumbnail:\n",
      "Value = http://http2.mlstatic.com/D_967297-MLA52323054873_112022-I.jpg\n",
      "--------------------------------------------------\n",
      "16 -> id = thumbnail_id:\n",
      "Value = 967297-MLA52323054873_112022\n",
      "--------------------------------------------------\n",
      "17 -> id = accepts_mercadopago:\n",
      "Value = False\n",
      "--------------------------------------------------\n",
      "18 -> id = installments:\n",
      "Value = None\n",
      "--------------------------------------------------\n",
      "19 -> id = address:\n",
      "Value = {'state_id': 'TUxBUENBUGw3M2E1', 'state_name': 'Capital Federal', 'city_id': 'TUxBQ0NBUGZlZG1sYQ', 'city_name': 'Capital Federal', 'area_code': '', 'phone1': ''}\n",
      "--------------------------------------------------\n",
      "20 -> id = promotions:\n",
      "Value = None\n",
      "--------------------------------------------------\n",
      "21 -> id = shipping:\n",
      "Value = {'free_shipping': False, 'mode': 'not_specified', 'tags': [], 'logistic_type': None, 'store_pick_up': False}\n",
      "--------------------------------------------------\n",
      "22 -> id = seller_address:\n",
      "Value = {'id': '', 'comment': '', 'address_line': '', 'zip_code': '', 'country': {'id': 'AR', 'name': 'Argentina'}, 'state': {'id': 'AR-B', 'name': 'Buenos Aires'}, 'city': {'id': 'TUxBQ0lUVTNjNDFm', 'name': 'Ituzaingó'}, 'latitude': '', 'longitude': ''}\n",
      "--------------------------------------------------\n",
      "23 -> id = seller_contact:\n",
      "Value = {'contact': '', 'other_info': '', 'area_code': '', 'phone': '', 'area_code2': '', 'phone2': '', 'email': '', 'webpage': ''}\n",
      "--------------------------------------------------\n",
      "24 -> id = location:\n",
      "Value = {'address_line': 'Blanco Encalada 4875, C1430BOG CABA, Argentina', 'zip_code': '', 'subneighborhood': None, 'neighborhood': {'id': 'TUxBQlZJTDcwOTla', 'name': 'Villa Urquiza'}, 'city': {'id': 'TUxBQ0NBUGZlZG1sYQ', 'name': 'Capital Federal'}, 'state': {'id': 'TUxBUENBUGw3M2E1', 'name': 'Capital Federal'}, 'country': {'id': 'AR', 'name': 'Argentina'}, 'latitude': -34.574127, 'longitude': -58.48434}\n",
      "--------------------------------------------------\n",
      "26 -> id = original_price:\n",
      "Value = None\n",
      "--------------------------------------------------\n",
      "27 -> id = category_id:\n",
      "Value = MLA1473\n",
      "--------------------------------------------------\n",
      "28 -> id = official_store_id:\n",
      "Value = None\n",
      "--------------------------------------------------\n",
      "29 -> id = domain_id:\n",
      "Value = MLA-APARTMENTS_FOR_RENT\n",
      "--------------------------------------------------\n",
      "30 -> id = catalog_product_id:\n",
      "Value = None\n",
      "--------------------------------------------------\n",
      "31 -> id = tags:\n",
      "Value = ['good_quality_picture', 'good_quality_thumbnail']\n",
      "--------------------------------------------------\n",
      "32 -> id = order_backend:\n",
      "Value = 1\n",
      "--------------------------------------------------\n",
      "33 -> id = use_thumbnail_id:\n",
      "Value = True\n",
      "--------------------------------------------------\n",
      "34 -> id = offer_score:\n",
      "Value = None\n",
      "--------------------------------------------------\n",
      "35 -> id = offer_share:\n",
      "Value = None\n",
      "--------------------------------------------------\n",
      "36 -> id = match_score:\n",
      "Value = None\n",
      "--------------------------------------------------\n",
      "37 -> id = winner_item_id:\n",
      "Value = None\n",
      "--------------------------------------------------\n",
      "38 -> id = melicoin:\n",
      "Value = None\n",
      "--------------------------------------------------\n",
      "39 -> id = discounts:\n",
      "Value = None\n",
      "--------------------------------------------------\n",
      "40 -> id = inventory_id:\n",
      "Value = None\n",
      "--------------------------------------------------\n"
     ]
    }
   ],
   "source": [
    "# results\n",
    "for i, k in enumerate (data['results'][0]):\n",
    "    if k != 'attributes':\n",
    "        print(f'{i} -> id = {k}:\\nValue = {data[\"results\"][0][k]}')#: {ty[\"title\"]}', end=\"\\n\")\n",
    "        print(50*'-')"
   ]
  },
  {
   "cell_type": "markdown",
   "metadata": {},
   "source": [
    "### Vemos que hay dentro de '_results_' '_attributes_'"
   ]
  },
  {
   "cell_type": "code",
   "execution_count": 14,
   "metadata": {},
   "outputs": [
    {
     "data": {
      "text/plain": [
       "['attribute_group_name',\n",
       " 'value_type',\n",
       " 'id',\n",
       " 'name',\n",
       " 'value_id',\n",
       " 'value_name',\n",
       " 'value_struct',\n",
       " 'values',\n",
       " 'attribute_group_id',\n",
       " 'source']"
      ]
     },
     "execution_count": 14,
     "metadata": {},
     "output_type": "execute_result"
    }
   ],
   "source": [
    "# keys.\n",
    "list(data['results'][0]['attributes'][0].keys())"
   ]
  },
  {
   "cell_type": "code",
   "execution_count": 15,
   "metadata": {},
   "outputs": [
    {
     "name": "stdout",
     "output_type": "stream",
     "text": [
      "0 -> id = HAS_AIR_CONDITIONING:\n",
      "\n",
      "{'attribute_group_id': 'COMOYAMEN',\n",
      " 'attribute_group_name': 'Comodidades y amenities',\n",
      " 'id': 'HAS_AIR_CONDITIONING',\n",
      " 'name': 'Aire acondicionado',\n",
      " 'source': 6316276763983939,\n",
      " 'value_id': '242085',\n",
      " 'value_name': 'Sí',\n",
      " 'value_struct': None,\n",
      " 'value_type': 'boolean',\n",
      " 'values': [{'id': '242085',\n",
      "             'name': 'Sí',\n",
      "             'source': 6316276763983939,\n",
      "             'struct': None}]}\n",
      "--------------------------------------------------\n",
      "1 -> id = BEDROOMS:\n",
      "\n",
      "{'attribute_group_id': 'FIND',\n",
      " 'attribute_group_name': 'Ficha técnica',\n",
      " 'id': 'BEDROOMS',\n",
      " 'name': 'Dormitorios',\n",
      " 'source': 6316276763983939,\n",
      " 'value_id': None,\n",
      " 'value_name': '1',\n",
      " 'value_struct': None,\n",
      " 'value_type': 'number',\n",
      " 'values': [{'id': None,\n",
      "             'name': '1',\n",
      "             'source': 6316276763983939,\n",
      "             'struct': None}]}\n",
      "--------------------------------------------------\n",
      "2 -> id = COVERED_AREA:\n",
      "\n",
      "{'attribute_group_id': 'FIND',\n",
      " 'attribute_group_name': 'Ficha técnica',\n",
      " 'id': 'COVERED_AREA',\n",
      " 'name': 'Superficie cubierta',\n",
      " 'source': 6316276763983939,\n",
      " 'value_id': None,\n",
      " 'value_name': '35 m²',\n",
      " 'value_struct': {'number': 35, 'unit': 'm²'},\n",
      " 'value_type': 'number_unit',\n",
      " 'values': [{'id': None,\n",
      "             'name': '35 m²',\n",
      "             'source': 6316276763983939,\n",
      "             'struct': {'number': 35, 'unit': 'm²'}}]}\n",
      "--------------------------------------------------\n",
      "3 -> id = FULL_BATHROOMS:\n",
      "\n",
      "{'attribute_group_id': 'FIND',\n",
      " 'attribute_group_name': 'Ficha técnica',\n",
      " 'id': 'FULL_BATHROOMS',\n",
      " 'name': 'Baños',\n",
      " 'source': 6316276763983939,\n",
      " 'value_id': None,\n",
      " 'value_name': '1',\n",
      " 'value_struct': None,\n",
      " 'value_type': 'number',\n",
      " 'values': [{'id': None,\n",
      "             'name': '1',\n",
      "             'source': 6316276763983939,\n",
      "             'struct': None}]}\n",
      "--------------------------------------------------\n",
      "4 -> id = ROOMS:\n",
      "\n",
      "{'attribute_group_id': 'FIND',\n",
      " 'attribute_group_name': 'Ficha técnica',\n",
      " 'id': 'ROOMS',\n",
      " 'name': 'Ambientes',\n",
      " 'source': 6316276763983939,\n",
      " 'value_id': None,\n",
      " 'value_name': '2',\n",
      " 'value_struct': None,\n",
      " 'value_type': 'number',\n",
      " 'values': [{'id': None,\n",
      "             'name': '2',\n",
      "             'source': 6316276763983939,\n",
      "             'struct': None}]}\n",
      "--------------------------------------------------\n",
      "5 -> id = TOTAL_AREA:\n",
      "\n",
      "{'attribute_group_id': 'FIND',\n",
      " 'attribute_group_name': 'Ficha técnica',\n",
      " 'id': 'TOTAL_AREA',\n",
      " 'name': 'Superficie total',\n",
      " 'source': 6316276763983939,\n",
      " 'value_id': None,\n",
      " 'value_name': '35 m²',\n",
      " 'value_struct': {'number': 35, 'unit': 'm²'},\n",
      " 'value_type': 'number_unit',\n",
      " 'values': [{'id': None,\n",
      "             'name': '35 m²',\n",
      "             'source': 6316276763983939,\n",
      "             'struct': {'number': 35, 'unit': 'm²'}}]}\n",
      "--------------------------------------------------\n",
      "6 -> id = OPERATION:\n",
      "\n",
      "{'attribute_group_id': 'MAIN',\n",
      " 'attribute_group_name': 'Principales',\n",
      " 'id': 'OPERATION',\n",
      " 'name': 'Operación',\n",
      " 'source': 1,\n",
      " 'value_id': '242073',\n",
      " 'value_name': 'Alquiler',\n",
      " 'value_struct': None,\n",
      " 'value_type': 'list',\n",
      " 'values': [{'id': '242073', 'name': 'Alquiler', 'source': 1, 'struct': None}]}\n",
      "--------------------------------------------------\n",
      "7 -> id = PROPERTY_TYPE:\n",
      "\n",
      "{'attribute_group_id': 'MAIN',\n",
      " 'attribute_group_name': 'Principales',\n",
      " 'id': 'PROPERTY_TYPE',\n",
      " 'name': 'Inmueble',\n",
      " 'source': 1,\n",
      " 'value_id': '242062',\n",
      " 'value_name': 'Departamento',\n",
      " 'value_struct': None,\n",
      " 'value_type': 'list',\n",
      " 'values': [{'id': '242062',\n",
      "             'name': 'Departamento',\n",
      "             'source': 1,\n",
      "             'struct': None}]}\n",
      "--------------------------------------------------\n",
      "8 -> id = ITEM_CONDITION:\n",
      "\n",
      "{'attribute_group_id': 'OTHERS',\n",
      " 'attribute_group_name': 'Otros',\n",
      " 'id': 'ITEM_CONDITION',\n",
      " 'name': 'Condición del ítem',\n",
      " 'source': 1,\n",
      " 'value_id': '2230581',\n",
      " 'value_name': 'Usado',\n",
      " 'value_struct': None,\n",
      " 'value_type': 'list',\n",
      " 'values': [{'id': '2230581', 'name': 'Usado', 'source': 1, 'struct': None}]}\n",
      "--------------------------------------------------\n",
      "9 -> id = WITH_VIRTUAL_TOUR:\n",
      "\n",
      "{'attribute_group_id': 'OTHERS',\n",
      " 'attribute_group_name': 'Otros',\n",
      " 'id': 'WITH_VIRTUAL_TOUR',\n",
      " 'name': 'Tour virtual',\n",
      " 'source': 942334329061206,\n",
      " 'value_id': '242084',\n",
      " 'value_name': 'No',\n",
      " 'value_struct': None,\n",
      " 'value_type': 'boolean',\n",
      " 'values': [{'id': '242084',\n",
      "             'name': 'No',\n",
      "             'source': 942334329061206,\n",
      "             'struct': None}]}\n",
      "--------------------------------------------------\n"
     ]
    }
   ],
   "source": [
    "for i, attr in enumerate(data['results'][0]['attributes']):\n",
    "    print(f'{i} -> id = {attr[\"id\"]}:\\n')\n",
    "    pprint(attr)\n",
    "    print(50*'-')"
   ]
  },
  {
   "cell_type": "code",
   "execution_count": 16,
   "metadata": {},
   "outputs": [
    {
     "data": {
      "text/plain": [
       "False"
      ]
     },
     "execution_count": 16,
     "metadata": {},
     "output_type": "execute_result"
    }
   ],
   "source": [
    "data['results'][0]['seller']['real_estate_agency']"
   ]
  },
  {
   "cell_type": "markdown",
   "metadata": {},
   "source": [
    "# Buscando los datos de interes\n",
    "\n",
    " id     | header | type | description | location|\n",
    " :----: | :----: | :----: | :---- | :----\n",
    " 0  | id           | [str] | Identificador de la publicación, permite .../items/id_items| data['results'][0]['id']\n",
    " 1  | star_date    | [dtime] | Inicio de la publicación, solo puedo acceder si ingreso a cada publicación| .../items/id_items\n",
    " 2  | title        | [str] | Título de la publicación                             | data['results'][0]['title']\n",
    " 3  | condition    | [str] | Describe si el inmueble es nuevo o usado             | data['results'][0]['condition']\n",
    " 4  | price        | [float] | Importe publicado del tipo de operación            | data['results'][0]['price']\n",
    " 5  | end_date     | [dtime] | Fecha en la que se programa el fin de la publicación| data['results'][0]['stop_time']\n",
    " 6  | currency     | [str] | Típo de moneda                                       | data['results'][0]['currency_id']\n",
    " 7  | seller_type  | [bool] | Publicado por agente imobiliario o tiendas oficiales| data['results'][0]['seller']['real_estate_agency']\n",
    " 8  | country      | [float] | Identificador del pasí ej. \"AR\" Argentina          | data['results'][0]['location']['country][name']\n",
    " 9 | state        | [str] | Región, zona, localidades ej. Bs.As. G.B.A. Oeste    | data['results'][0]['location']['state']['name']\n",
    " 10 | city         | [str] | Ciudad, Partido ej. La Matanza, Capital Federal      | data['results'][0]['location']['city']['name']\n",
    " 11 | neighborhood | [str] | Localidad, Barrio, vecindario ej. Ramos Mejía, Belgrano| data['results'][0]['location']['neighborhood']['name']\n",
    " 12 | lat          | [float] | Latitud                                            | data['results'][0]['location']['latitude']\n",
    " 13 | lon          | [float] | Longitud                                           | data['results'][0]['location']['longitude']\n",
    " 14 | last_update  | [dtime]| Última actualización del precio publicado           | data['results'][0]['prices']['prices']['last_updated']\n",
    " 15 | property_type| [str] | Departamento, casa, PH, casa quinta                  | data['results'][0]['attributes'][{'id':'PROPERTY_TYPE', 'value_name': \"n\"}]\n",
    " 16 | rooms        | [int] | Cantidad de ambientes                                | data['results'][0]['attributes'][{'id':'ROOMS', 'value_name': 'n'}]\n",
    " 17 | bathrooms    | [int] | Cantidad de baños                                    | data['results'][0]['attributes'][{'id':'FULL_BATHROOMS', 'value_name': 'n'}]\n",
    " 18 | bedrooms     | [int] | Cantidad de dormitorios                              | data['results'][0]['attributes'][{'id':'BEDROOMS', 'value_name': \"n\"}]\n",
    " 19 | operation_type | [str] | Alquiler, alquiler temporal, venta                 | data['results'][0]['attributes'][{'id':'OPERATION', 'value_name': \"n\"}]\n",
    " 20 | surface_covered | [float] | Supeficie cubierta en m²                        | data['results'][0]['attributes'][{'id':'COVERED_AREA', 'value_name': \"n\"}]\n",
    " 21 | surface_tota | [float] | Supeficie total en m²                              | data['results'][0]['attributes'][{'id':'TOTAL_AREA', 'value_name': \"n\"}]\n",
    "   "
   ]
  },
  {
   "cell_type": "markdown",
   "metadata": {},
   "source": [
    "### Estructurando los datos.\n",
    "\n",
    "La respuesta de la api viene con una estructura que debemos \"aplanar\" para conformar un dataframe de pandas\n",
    "\n",
    "    r = requests.get(api)\n",
    "\n",
    "Para ello utilizaremos dos estrategias utilizando el normalizador de pandas\n",
    "    \n",
    "    pd.json_normalize(data, redord_path, meta)\n",
    "\n",
    " tomando com input (1, 2):\n",
    "\n",
    "        data = json.loads(r.content)\n",
    "\n",
    "1. Utilizaremos en el parámetro *redor_path* la llave _results_ que viene el la respuesta. Para extraer parte la información buscada.\n",
    "    \n",
    "        jsn = r.json()\n",
    "\n",
    "2. El dict _jsn_ nos permitirá acceder a mayor \"profundidad\" en el json y estructurar el contenido de las claves _prices.prices_ y _attributes_, \n",
    "exploramos  el parámetro *meta* pero la estructura de respuesta de la api no permite aplanar el json en un solo paso, para ello utilizamos este método."
   ]
  },
  {
   "cell_type": "code",
   "execution_count": 17,
   "metadata": {},
   "outputs": [],
   "source": [
    "data_col = [\n",
    "    'id', 'title', 'condition', 'price', 'stop_time', 'currency_id',\n",
    "    'seller_real_estate_agency',\n",
    "    'location_country_name', 'location_state_name', 'location_city_name',\n",
    "    'location_neighborhood_name', 'location_latitude','location_longitude',\n",
    "    ]\n",
    "jsnPPcol = [\n",
    "    'm_id', 'last_updated',\n",
    "    ]\n",
    "jsnATTcol = [\n",
    "    'PROPERTY_TYPE', 'ROOMS', 'FULL_BATHROOMS',\n",
    "     'BEDROOMS', 'OPERATION', 'COVERED_AREA', 'TOTAL_AREA',\n",
    "    ]"
   ]
  },
  {
   "cell_type": "code",
   "execution_count": 18,
   "metadata": {},
   "outputs": [],
   "source": [
    "dd = pd.json_normalize(data, record_path=['results'], sep='_')[data_col]"
   ]
  },
  {
   "cell_type": "code",
   "execution_count": 19,
   "metadata": {},
   "outputs": [
    {
     "data": {
      "text/html": [
       "<div>\n",
       "<style scoped>\n",
       "    .dataframe tbody tr th:only-of-type {\n",
       "        vertical-align: middle;\n",
       "    }\n",
       "\n",
       "    .dataframe tbody tr th {\n",
       "        vertical-align: top;\n",
       "    }\n",
       "\n",
       "    .dataframe thead th {\n",
       "        text-align: right;\n",
       "    }\n",
       "</style>\n",
       "<table border=\"1\" class=\"dataframe\">\n",
       "  <thead>\n",
       "    <tr style=\"text-align: right;\">\n",
       "      <th></th>\n",
       "      <th>id</th>\n",
       "      <th>title</th>\n",
       "      <th>condition</th>\n",
       "      <th>price</th>\n",
       "      <th>stop_time</th>\n",
       "      <th>currency_id</th>\n",
       "      <th>seller_real_estate_agency</th>\n",
       "      <th>location_country_name</th>\n",
       "      <th>location_state_name</th>\n",
       "      <th>location_city_name</th>\n",
       "      <th>location_neighborhood_name</th>\n",
       "      <th>location_latitude</th>\n",
       "      <th>location_longitude</th>\n",
       "    </tr>\n",
       "  </thead>\n",
       "  <tbody>\n",
       "    <tr>\n",
       "      <th>0</th>\n",
       "      <td>MLA1229495352</td>\n",
       "      <td>Depto Muy Luminoso - 2 Ambientes</td>\n",
       "      <td>used</td>\n",
       "      <td>65000</td>\n",
       "      <td>2023-01-06T04:01:42.000Z</td>\n",
       "      <td>ARS</td>\n",
       "      <td>False</td>\n",
       "      <td>Argentina</td>\n",
       "      <td>Capital Federal</td>\n",
       "      <td>Capital Federal</td>\n",
       "      <td>Villa Urquiza</td>\n",
       "      <td>-34.574127</td>\n",
       "      <td>-58.484340</td>\n",
       "    </tr>\n",
       "    <tr>\n",
       "      <th>1</th>\n",
       "      <td>MLA1227217684</td>\n",
       "      <td>Alquiler Departamentos 2 Ambientes Villa Gesel...</td>\n",
       "      <td>used</td>\n",
       "      <td>7800</td>\n",
       "      <td>2023-11-06T04:01:14.000Z</td>\n",
       "      <td>ARS</td>\n",
       "      <td>False</td>\n",
       "      <td>Argentina</td>\n",
       "      <td>Bs.As. Costa Atlántica</td>\n",
       "      <td>Villa Gesell</td>\n",
       "      <td>Zona Sur</td>\n",
       "      <td>-37.279080</td>\n",
       "      <td>-56.984270</td>\n",
       "    </tr>\n",
       "    <tr>\n",
       "      <th>2</th>\n",
       "      <td>MLA1228990003</td>\n",
       "      <td>Departamento - Villa Crespo</td>\n",
       "      <td>used</td>\n",
       "      <td>95000</td>\n",
       "      <td>2022-12-11T20:19:56.000Z</td>\n",
       "      <td>ARS</td>\n",
       "      <td>True</td>\n",
       "      <td>Argentina</td>\n",
       "      <td>Capital Federal</td>\n",
       "      <td>Capital Federal</td>\n",
       "      <td>Villa Crespo</td>\n",
       "      <td>-34.601560</td>\n",
       "      <td>-58.433075</td>\n",
       "    </tr>\n",
       "  </tbody>\n",
       "</table>\n",
       "</div>"
      ],
      "text/plain": [
       "              id                                              title condition  \\\n",
       "0  MLA1229495352                  Depto Muy Luminoso - 2 Ambientes       used   \n",
       "1  MLA1227217684  Alquiler Departamentos 2 Ambientes Villa Gesel...      used   \n",
       "2  MLA1228990003                        Departamento - Villa Crespo      used   \n",
       "\n",
       "   price                 stop_time currency_id  seller_real_estate_agency  \\\n",
       "0  65000  2023-01-06T04:01:42.000Z         ARS                      False   \n",
       "1   7800  2023-11-06T04:01:14.000Z         ARS                      False   \n",
       "2  95000  2022-12-11T20:19:56.000Z         ARS                       True   \n",
       "\n",
       "  location_country_name     location_state_name location_city_name  \\\n",
       "0             Argentina         Capital Federal    Capital Federal   \n",
       "1             Argentina  Bs.As. Costa Atlántica       Villa Gesell   \n",
       "2             Argentina         Capital Federal    Capital Federal   \n",
       "\n",
       "  location_neighborhood_name  location_latitude  location_longitude  \n",
       "0              Villa Urquiza         -34.574127          -58.484340  \n",
       "1                   Zona Sur         -37.279080          -56.984270  \n",
       "2               Villa Crespo         -34.601560          -58.433075  "
      ]
     },
     "execution_count": 19,
     "metadata": {},
     "output_type": "execute_result"
    }
   ],
   "source": [
    "dd"
   ]
  },
  {
   "cell_type": "code",
   "execution_count": 20,
   "metadata": {},
   "outputs": [],
   "source": [
    "# Formateamos la request a un json.\n",
    "jsn = r.json()"
   ]
  },
  {
   "cell_type": "code",
   "execution_count": 21,
   "metadata": {},
   "outputs": [],
   "source": [
    "dp = pd.json_normalize(jsn['results'],\n",
    "     ['prices', 'prices'], meta='id', meta_prefix='m_')[jsnPPcol]"
   ]
  },
  {
   "cell_type": "code",
   "execution_count": 22,
   "metadata": {},
   "outputs": [
    {
     "data": {
      "text/html": [
       "<div>\n",
       "<style scoped>\n",
       "    .dataframe tbody tr th:only-of-type {\n",
       "        vertical-align: middle;\n",
       "    }\n",
       "\n",
       "    .dataframe tbody tr th {\n",
       "        vertical-align: top;\n",
       "    }\n",
       "\n",
       "    .dataframe thead th {\n",
       "        text-align: right;\n",
       "    }\n",
       "</style>\n",
       "<table border=\"1\" class=\"dataframe\">\n",
       "  <thead>\n",
       "    <tr style=\"text-align: right;\">\n",
       "      <th></th>\n",
       "      <th>m_id</th>\n",
       "      <th>last_updated</th>\n",
       "    </tr>\n",
       "  </thead>\n",
       "  <tbody>\n",
       "    <tr>\n",
       "      <th>0</th>\n",
       "      <td>MLA1229495352</td>\n",
       "      <td>2022-11-07T23:42:54Z</td>\n",
       "    </tr>\n",
       "    <tr>\n",
       "      <th>1</th>\n",
       "      <td>MLA1227217684</td>\n",
       "      <td>2022-11-12T14:34:40Z</td>\n",
       "    </tr>\n",
       "    <tr>\n",
       "      <th>2</th>\n",
       "      <td>MLA1228990003</td>\n",
       "      <td>2022-11-07T14:24:10Z</td>\n",
       "    </tr>\n",
       "  </tbody>\n",
       "</table>\n",
       "</div>"
      ],
      "text/plain": [
       "            m_id          last_updated\n",
       "0  MLA1229495352  2022-11-07T23:42:54Z\n",
       "1  MLA1227217684  2022-11-12T14:34:40Z\n",
       "2  MLA1228990003  2022-11-07T14:24:10Z"
      ]
     },
     "execution_count": 22,
     "metadata": {},
     "output_type": "execute_result"
    }
   ],
   "source": [
    "dp"
   ]
  },
  {
   "cell_type": "code",
   "execution_count": 23,
   "metadata": {},
   "outputs": [],
   "source": [
    "da = pd.json_normalize(jsn['results'],\n",
    "     'attributes', meta='id', meta_prefix='m_')\n",
    "\n",
    "da = da.loc[\n",
    "        da.id.isin(jsnATTcol),\n",
    "        ['m_id', 'id', 'value_name']\n",
    "    ].pivot(index='m_id', columns='id', values='value_name')\n",
    "\n",
    "da.reset_index(inplace=True)"
   ]
  },
  {
   "cell_type": "code",
   "execution_count": 24,
   "metadata": {},
   "outputs": [
    {
     "data": {
      "text/html": [
       "<div>\n",
       "<style scoped>\n",
       "    .dataframe tbody tr th:only-of-type {\n",
       "        vertical-align: middle;\n",
       "    }\n",
       "\n",
       "    .dataframe tbody tr th {\n",
       "        vertical-align: top;\n",
       "    }\n",
       "\n",
       "    .dataframe thead th {\n",
       "        text-align: right;\n",
       "    }\n",
       "</style>\n",
       "<table border=\"1\" class=\"dataframe\">\n",
       "  <thead>\n",
       "    <tr style=\"text-align: right;\">\n",
       "      <th>id</th>\n",
       "      <th>m_id</th>\n",
       "      <th>BEDROOMS</th>\n",
       "      <th>COVERED_AREA</th>\n",
       "      <th>FULL_BATHROOMS</th>\n",
       "      <th>OPERATION</th>\n",
       "      <th>PROPERTY_TYPE</th>\n",
       "      <th>ROOMS</th>\n",
       "      <th>TOTAL_AREA</th>\n",
       "    </tr>\n",
       "  </thead>\n",
       "  <tbody>\n",
       "    <tr>\n",
       "      <th>0</th>\n",
       "      <td>MLA1227217684</td>\n",
       "      <td>1</td>\n",
       "      <td>33 m²</td>\n",
       "      <td>1</td>\n",
       "      <td>Alquiler temporal</td>\n",
       "      <td>Departamento</td>\n",
       "      <td>2</td>\n",
       "      <td>38 m²</td>\n",
       "    </tr>\n",
       "    <tr>\n",
       "      <th>1</th>\n",
       "      <td>MLA1228990003</td>\n",
       "      <td>2</td>\n",
       "      <td>48 m²</td>\n",
       "      <td>2</td>\n",
       "      <td>Alquiler</td>\n",
       "      <td>Departamento</td>\n",
       "      <td>3</td>\n",
       "      <td>51 m²</td>\n",
       "    </tr>\n",
       "    <tr>\n",
       "      <th>2</th>\n",
       "      <td>MLA1229495352</td>\n",
       "      <td>1</td>\n",
       "      <td>35 m²</td>\n",
       "      <td>1</td>\n",
       "      <td>Alquiler</td>\n",
       "      <td>Departamento</td>\n",
       "      <td>2</td>\n",
       "      <td>35 m²</td>\n",
       "    </tr>\n",
       "  </tbody>\n",
       "</table>\n",
       "</div>"
      ],
      "text/plain": [
       "id           m_id BEDROOMS COVERED_AREA FULL_BATHROOMS          OPERATION  \\\n",
       "0   MLA1227217684        1        33 m²              1  Alquiler temporal   \n",
       "1   MLA1228990003        2        48 m²              2           Alquiler   \n",
       "2   MLA1229495352        1        35 m²              1           Alquiler   \n",
       "\n",
       "id PROPERTY_TYPE ROOMS TOTAL_AREA  \n",
       "0   Departamento     2      38 m²  \n",
       "1   Departamento     3      51 m²  \n",
       "2   Departamento     2      35 m²  "
      ]
     },
     "execution_count": 24,
     "metadata": {},
     "output_type": "execute_result"
    }
   ],
   "source": [
    "da"
   ]
  },
  {
   "cell_type": "code",
   "execution_count": 25,
   "metadata": {},
   "outputs": [],
   "source": [
    "df1 = dd.merge(da, left_on='id', right_on='m_id', how='left')\n"
   ]
  },
  {
   "cell_type": "code",
   "execution_count": 26,
   "metadata": {},
   "outputs": [],
   "source": [
    "df1 = df1.merge(dp, left_on='id', right_on='m_id', how='left')\n",
    "\n",
    "df1.drop(columns=['m_id_x', 'm_id_y'], inplace=True)"
   ]
  },
  {
   "cell_type": "code",
   "execution_count": 27,
   "metadata": {},
   "outputs": [
    {
     "data": {
      "text/html": [
       "<div>\n",
       "<style scoped>\n",
       "    .dataframe tbody tr th:only-of-type {\n",
       "        vertical-align: middle;\n",
       "    }\n",
       "\n",
       "    .dataframe tbody tr th {\n",
       "        vertical-align: top;\n",
       "    }\n",
       "\n",
       "    .dataframe thead th {\n",
       "        text-align: right;\n",
       "    }\n",
       "</style>\n",
       "<table border=\"1\" class=\"dataframe\">\n",
       "  <thead>\n",
       "    <tr style=\"text-align: right;\">\n",
       "      <th></th>\n",
       "      <th>id</th>\n",
       "      <th>title</th>\n",
       "      <th>condition</th>\n",
       "      <th>price</th>\n",
       "      <th>stop_time</th>\n",
       "      <th>currency_id</th>\n",
       "      <th>seller_real_estate_agency</th>\n",
       "      <th>location_country_name</th>\n",
       "      <th>location_state_name</th>\n",
       "      <th>location_city_name</th>\n",
       "      <th>...</th>\n",
       "      <th>location_latitude</th>\n",
       "      <th>location_longitude</th>\n",
       "      <th>BEDROOMS</th>\n",
       "      <th>COVERED_AREA</th>\n",
       "      <th>FULL_BATHROOMS</th>\n",
       "      <th>OPERATION</th>\n",
       "      <th>PROPERTY_TYPE</th>\n",
       "      <th>ROOMS</th>\n",
       "      <th>TOTAL_AREA</th>\n",
       "      <th>last_updated</th>\n",
       "    </tr>\n",
       "  </thead>\n",
       "  <tbody>\n",
       "    <tr>\n",
       "      <th>0</th>\n",
       "      <td>MLA1229495352</td>\n",
       "      <td>Depto Muy Luminoso - 2 Ambientes</td>\n",
       "      <td>used</td>\n",
       "      <td>65000</td>\n",
       "      <td>2023-01-06T04:01:42.000Z</td>\n",
       "      <td>ARS</td>\n",
       "      <td>False</td>\n",
       "      <td>Argentina</td>\n",
       "      <td>Capital Federal</td>\n",
       "      <td>Capital Federal</td>\n",
       "      <td>...</td>\n",
       "      <td>-34.574127</td>\n",
       "      <td>-58.484340</td>\n",
       "      <td>1</td>\n",
       "      <td>35 m²</td>\n",
       "      <td>1</td>\n",
       "      <td>Alquiler</td>\n",
       "      <td>Departamento</td>\n",
       "      <td>2</td>\n",
       "      <td>35 m²</td>\n",
       "      <td>2022-11-07T23:42:54Z</td>\n",
       "    </tr>\n",
       "    <tr>\n",
       "      <th>1</th>\n",
       "      <td>MLA1227217684</td>\n",
       "      <td>Alquiler Departamentos 2 Ambientes Villa Gesel...</td>\n",
       "      <td>used</td>\n",
       "      <td>7800</td>\n",
       "      <td>2023-11-06T04:01:14.000Z</td>\n",
       "      <td>ARS</td>\n",
       "      <td>False</td>\n",
       "      <td>Argentina</td>\n",
       "      <td>Bs.As. Costa Atlántica</td>\n",
       "      <td>Villa Gesell</td>\n",
       "      <td>...</td>\n",
       "      <td>-37.279080</td>\n",
       "      <td>-56.984270</td>\n",
       "      <td>1</td>\n",
       "      <td>33 m²</td>\n",
       "      <td>1</td>\n",
       "      <td>Alquiler temporal</td>\n",
       "      <td>Departamento</td>\n",
       "      <td>2</td>\n",
       "      <td>38 m²</td>\n",
       "      <td>2022-11-12T14:34:40Z</td>\n",
       "    </tr>\n",
       "    <tr>\n",
       "      <th>2</th>\n",
       "      <td>MLA1228990003</td>\n",
       "      <td>Departamento - Villa Crespo</td>\n",
       "      <td>used</td>\n",
       "      <td>95000</td>\n",
       "      <td>2022-12-11T20:19:56.000Z</td>\n",
       "      <td>ARS</td>\n",
       "      <td>True</td>\n",
       "      <td>Argentina</td>\n",
       "      <td>Capital Federal</td>\n",
       "      <td>Capital Federal</td>\n",
       "      <td>...</td>\n",
       "      <td>-34.601560</td>\n",
       "      <td>-58.433075</td>\n",
       "      <td>2</td>\n",
       "      <td>48 m²</td>\n",
       "      <td>2</td>\n",
       "      <td>Alquiler</td>\n",
       "      <td>Departamento</td>\n",
       "      <td>3</td>\n",
       "      <td>51 m²</td>\n",
       "      <td>2022-11-07T14:24:10Z</td>\n",
       "    </tr>\n",
       "  </tbody>\n",
       "</table>\n",
       "<p>3 rows × 21 columns</p>\n",
       "</div>"
      ],
      "text/plain": [
       "              id                                              title condition  \\\n",
       "0  MLA1229495352                  Depto Muy Luminoso - 2 Ambientes       used   \n",
       "1  MLA1227217684  Alquiler Departamentos 2 Ambientes Villa Gesel...      used   \n",
       "2  MLA1228990003                        Departamento - Villa Crespo      used   \n",
       "\n",
       "   price                 stop_time currency_id  seller_real_estate_agency  \\\n",
       "0  65000  2023-01-06T04:01:42.000Z         ARS                      False   \n",
       "1   7800  2023-11-06T04:01:14.000Z         ARS                      False   \n",
       "2  95000  2022-12-11T20:19:56.000Z         ARS                       True   \n",
       "\n",
       "  location_country_name     location_state_name location_city_name  ...  \\\n",
       "0             Argentina         Capital Federal    Capital Federal  ...   \n",
       "1             Argentina  Bs.As. Costa Atlántica       Villa Gesell  ...   \n",
       "2             Argentina         Capital Federal    Capital Federal  ...   \n",
       "\n",
       "  location_latitude  location_longitude  BEDROOMS COVERED_AREA FULL_BATHROOMS  \\\n",
       "0        -34.574127          -58.484340         1        35 m²              1   \n",
       "1        -37.279080          -56.984270         1        33 m²              1   \n",
       "2        -34.601560          -58.433075         2        48 m²              2   \n",
       "\n",
       "           OPERATION PROPERTY_TYPE ROOMS TOTAL_AREA          last_updated  \n",
       "0           Alquiler  Departamento     2      35 m²  2022-11-07T23:42:54Z  \n",
       "1  Alquiler temporal  Departamento     2      38 m²  2022-11-12T14:34:40Z  \n",
       "2           Alquiler  Departamento     3      51 m²  2022-11-07T14:24:10Z  \n",
       "\n",
       "[3 rows x 21 columns]"
      ]
     },
     "execution_count": 27,
     "metadata": {},
     "output_type": "execute_result"
    }
   ],
   "source": [
    "df1"
   ]
  },
  {
   "cell_type": "code",
   "execution_count": 28,
   "metadata": {},
   "outputs": [
    {
     "data": {
      "text/plain": [
       "Index(['id', 'title', 'condition', 'price', 'stop_time', 'currency_id',\n",
       "       'seller_real_estate_agency', 'location_country_name',\n",
       "       'location_state_name', 'location_city_name',\n",
       "       'location_neighborhood_name', 'location_latitude', 'location_longitude',\n",
       "       'last_updated', 'PROPERTY_TYPE', 'ROOMS', 'FULL_BATHROOMS', 'BEDROOMS',\n",
       "       'OPERATION', 'COVERED_AREA', 'TOTAL_AREA'],\n",
       "      dtype='object')"
      ]
     },
     "execution_count": 28,
     "metadata": {},
     "output_type": "execute_result"
    }
   ],
   "source": [
    "df2 = pd.DataFrame(columns=data_col + jsnPPcol+ jsnATTcol).drop(columns=['m_id'])\n",
    "df2.columns"
   ]
  },
  {
   "cell_type": "code",
   "execution_count": 29,
   "metadata": {},
   "outputs": [
    {
     "data": {
      "text/html": [
       "<div>\n",
       "<style scoped>\n",
       "    .dataframe tbody tr th:only-of-type {\n",
       "        vertical-align: middle;\n",
       "    }\n",
       "\n",
       "    .dataframe tbody tr th {\n",
       "        vertical-align: top;\n",
       "    }\n",
       "\n",
       "    .dataframe thead th {\n",
       "        text-align: right;\n",
       "    }\n",
       "</style>\n",
       "<table border=\"1\" class=\"dataframe\">\n",
       "  <thead>\n",
       "    <tr style=\"text-align: right;\">\n",
       "      <th></th>\n",
       "      <th>id</th>\n",
       "      <th>title</th>\n",
       "      <th>condition</th>\n",
       "      <th>price</th>\n",
       "      <th>stop_time</th>\n",
       "      <th>currency_id</th>\n",
       "      <th>seller_real_estate_agency</th>\n",
       "      <th>location_country_name</th>\n",
       "      <th>location_state_name</th>\n",
       "      <th>location_city_name</th>\n",
       "      <th>...</th>\n",
       "      <th>location_latitude</th>\n",
       "      <th>location_longitude</th>\n",
       "      <th>last_updated</th>\n",
       "      <th>PROPERTY_TYPE</th>\n",
       "      <th>ROOMS</th>\n",
       "      <th>FULL_BATHROOMS</th>\n",
       "      <th>BEDROOMS</th>\n",
       "      <th>OPERATION</th>\n",
       "      <th>COVERED_AREA</th>\n",
       "      <th>TOTAL_AREA</th>\n",
       "    </tr>\n",
       "  </thead>\n",
       "  <tbody>\n",
       "    <tr>\n",
       "      <th>0</th>\n",
       "      <td>MLA1229495352</td>\n",
       "      <td>Depto Muy Luminoso - 2 Ambientes</td>\n",
       "      <td>used</td>\n",
       "      <td>65000</td>\n",
       "      <td>2023-01-06T04:01:42.000Z</td>\n",
       "      <td>ARS</td>\n",
       "      <td>False</td>\n",
       "      <td>Argentina</td>\n",
       "      <td>Capital Federal</td>\n",
       "      <td>Capital Federal</td>\n",
       "      <td>...</td>\n",
       "      <td>-34.574127</td>\n",
       "      <td>-58.484340</td>\n",
       "      <td>2022-11-07T23:42:54Z</td>\n",
       "      <td>Departamento</td>\n",
       "      <td>2</td>\n",
       "      <td>1</td>\n",
       "      <td>1</td>\n",
       "      <td>Alquiler</td>\n",
       "      <td>35 m²</td>\n",
       "      <td>35 m²</td>\n",
       "    </tr>\n",
       "    <tr>\n",
       "      <th>1</th>\n",
       "      <td>MLA1227217684</td>\n",
       "      <td>Alquiler Departamentos 2 Ambientes Villa Gesel...</td>\n",
       "      <td>used</td>\n",
       "      <td>7800</td>\n",
       "      <td>2023-11-06T04:01:14.000Z</td>\n",
       "      <td>ARS</td>\n",
       "      <td>False</td>\n",
       "      <td>Argentina</td>\n",
       "      <td>Bs.As. Costa Atlántica</td>\n",
       "      <td>Villa Gesell</td>\n",
       "      <td>...</td>\n",
       "      <td>-37.279080</td>\n",
       "      <td>-56.984270</td>\n",
       "      <td>2022-11-12T14:34:40Z</td>\n",
       "      <td>Departamento</td>\n",
       "      <td>2</td>\n",
       "      <td>1</td>\n",
       "      <td>1</td>\n",
       "      <td>Alquiler temporal</td>\n",
       "      <td>33 m²</td>\n",
       "      <td>38 m²</td>\n",
       "    </tr>\n",
       "    <tr>\n",
       "      <th>2</th>\n",
       "      <td>MLA1228990003</td>\n",
       "      <td>Departamento - Villa Crespo</td>\n",
       "      <td>used</td>\n",
       "      <td>95000</td>\n",
       "      <td>2022-12-11T20:19:56.000Z</td>\n",
       "      <td>ARS</td>\n",
       "      <td>True</td>\n",
       "      <td>Argentina</td>\n",
       "      <td>Capital Federal</td>\n",
       "      <td>Capital Federal</td>\n",
       "      <td>...</td>\n",
       "      <td>-34.601560</td>\n",
       "      <td>-58.433075</td>\n",
       "      <td>2022-11-07T14:24:10Z</td>\n",
       "      <td>Departamento</td>\n",
       "      <td>3</td>\n",
       "      <td>2</td>\n",
       "      <td>2</td>\n",
       "      <td>Alquiler</td>\n",
       "      <td>48 m²</td>\n",
       "      <td>51 m²</td>\n",
       "    </tr>\n",
       "  </tbody>\n",
       "</table>\n",
       "<p>3 rows × 21 columns</p>\n",
       "</div>"
      ],
      "text/plain": [
       "              id                                              title condition  \\\n",
       "0  MLA1229495352                  Depto Muy Luminoso - 2 Ambientes       used   \n",
       "1  MLA1227217684  Alquiler Departamentos 2 Ambientes Villa Gesel...      used   \n",
       "2  MLA1228990003                        Departamento - Villa Crespo      used   \n",
       "\n",
       "   price                 stop_time currency_id seller_real_estate_agency  \\\n",
       "0  65000  2023-01-06T04:01:42.000Z         ARS                     False   \n",
       "1   7800  2023-11-06T04:01:14.000Z         ARS                     False   \n",
       "2  95000  2022-12-11T20:19:56.000Z         ARS                      True   \n",
       "\n",
       "  location_country_name     location_state_name location_city_name  ...  \\\n",
       "0             Argentina         Capital Federal    Capital Federal  ...   \n",
       "1             Argentina  Bs.As. Costa Atlántica       Villa Gesell  ...   \n",
       "2             Argentina         Capital Federal    Capital Federal  ...   \n",
       "\n",
       "  location_latitude  location_longitude          last_updated PROPERTY_TYPE  \\\n",
       "0        -34.574127          -58.484340  2022-11-07T23:42:54Z  Departamento   \n",
       "1        -37.279080          -56.984270  2022-11-12T14:34:40Z  Departamento   \n",
       "2        -34.601560          -58.433075  2022-11-07T14:24:10Z  Departamento   \n",
       "\n",
       "  ROOMS FULL_BATHROOMS BEDROOMS          OPERATION COVERED_AREA TOTAL_AREA  \n",
       "0     2              1        1           Alquiler        35 m²      35 m²  \n",
       "1     2              1        1  Alquiler temporal        33 m²      38 m²  \n",
       "2     3              2        2           Alquiler        48 m²      51 m²  \n",
       "\n",
       "[3 rows x 21 columns]"
      ]
     },
     "execution_count": 29,
     "metadata": {},
     "output_type": "execute_result"
    }
   ],
   "source": [
    "# df2.append(df1, ignore_index=True)\n",
    "pd.concat([df2,df1], ignore_index=True)"
   ]
  },
  {
   "cell_type": "code",
   "execution_count": 30,
   "metadata": {},
   "outputs": [],
   "source": [
    "df1.reset_index(inplace=True)"
   ]
  },
  {
   "cell_type": "code",
   "execution_count": 31,
   "metadata": {},
   "outputs": [],
   "source": [
    "df2 = df1.copy()"
   ]
  },
  {
   "cell_type": "code",
   "execution_count": 32,
   "metadata": {},
   "outputs": [
    {
     "data": {
      "text/html": [
       "<div>\n",
       "<style scoped>\n",
       "    .dataframe tbody tr th:only-of-type {\n",
       "        vertical-align: middle;\n",
       "    }\n",
       "\n",
       "    .dataframe tbody tr th {\n",
       "        vertical-align: top;\n",
       "    }\n",
       "\n",
       "    .dataframe thead th {\n",
       "        text-align: right;\n",
       "    }\n",
       "</style>\n",
       "<table border=\"1\" class=\"dataframe\">\n",
       "  <thead>\n",
       "    <tr style=\"text-align: right;\">\n",
       "      <th></th>\n",
       "      <th>id</th>\n",
       "      <th>title</th>\n",
       "      <th>condition</th>\n",
       "      <th>price</th>\n",
       "      <th>stop_time</th>\n",
       "      <th>currency_id</th>\n",
       "      <th>seller_real_estate_agency</th>\n",
       "      <th>location_country_name</th>\n",
       "      <th>location_state_name</th>\n",
       "      <th>location_city_name</th>\n",
       "      <th>...</th>\n",
       "      <th>location_latitude</th>\n",
       "      <th>location_longitude</th>\n",
       "      <th>BEDROOMS</th>\n",
       "      <th>COVERED_AREA</th>\n",
       "      <th>FULL_BATHROOMS</th>\n",
       "      <th>OPERATION</th>\n",
       "      <th>PROPERTY_TYPE</th>\n",
       "      <th>ROOMS</th>\n",
       "      <th>TOTAL_AREA</th>\n",
       "      <th>last_updated</th>\n",
       "    </tr>\n",
       "  </thead>\n",
       "  <tbody>\n",
       "    <tr>\n",
       "      <th>0</th>\n",
       "      <td>MLA1229495352</td>\n",
       "      <td>Depto Muy Luminoso - 2 Ambientes</td>\n",
       "      <td>used</td>\n",
       "      <td>65000</td>\n",
       "      <td>2023-01-06T04:01:42.000Z</td>\n",
       "      <td>ARS</td>\n",
       "      <td>False</td>\n",
       "      <td>Argentina</td>\n",
       "      <td>Capital Federal</td>\n",
       "      <td>Capital Federal</td>\n",
       "      <td>...</td>\n",
       "      <td>-34.574127</td>\n",
       "      <td>-58.484340</td>\n",
       "      <td>1</td>\n",
       "      <td>35 m²</td>\n",
       "      <td>1</td>\n",
       "      <td>Alquiler</td>\n",
       "      <td>Departamento</td>\n",
       "      <td>2</td>\n",
       "      <td>35 m²</td>\n",
       "      <td>2022-11-07T23:42:54Z</td>\n",
       "    </tr>\n",
       "    <tr>\n",
       "      <th>1</th>\n",
       "      <td>MLA1227217684</td>\n",
       "      <td>Alquiler Departamentos 2 Ambientes Villa Gesel...</td>\n",
       "      <td>used</td>\n",
       "      <td>7800</td>\n",
       "      <td>2023-11-06T04:01:14.000Z</td>\n",
       "      <td>ARS</td>\n",
       "      <td>False</td>\n",
       "      <td>Argentina</td>\n",
       "      <td>Bs.As. Costa Atlántica</td>\n",
       "      <td>Villa Gesell</td>\n",
       "      <td>...</td>\n",
       "      <td>-37.279080</td>\n",
       "      <td>-56.984270</td>\n",
       "      <td>1</td>\n",
       "      <td>33 m²</td>\n",
       "      <td>1</td>\n",
       "      <td>Alquiler temporal</td>\n",
       "      <td>Departamento</td>\n",
       "      <td>2</td>\n",
       "      <td>38 m²</td>\n",
       "      <td>2022-11-12T14:34:40Z</td>\n",
       "    </tr>\n",
       "    <tr>\n",
       "      <th>2</th>\n",
       "      <td>MLA1228990003</td>\n",
       "      <td>Departamento - Villa Crespo</td>\n",
       "      <td>used</td>\n",
       "      <td>95000</td>\n",
       "      <td>2022-12-11T20:19:56.000Z</td>\n",
       "      <td>ARS</td>\n",
       "      <td>True</td>\n",
       "      <td>Argentina</td>\n",
       "      <td>Capital Federal</td>\n",
       "      <td>Capital Federal</td>\n",
       "      <td>...</td>\n",
       "      <td>-34.601560</td>\n",
       "      <td>-58.433075</td>\n",
       "      <td>2</td>\n",
       "      <td>48 m²</td>\n",
       "      <td>2</td>\n",
       "      <td>Alquiler</td>\n",
       "      <td>Departamento</td>\n",
       "      <td>3</td>\n",
       "      <td>51 m²</td>\n",
       "      <td>2022-11-07T14:24:10Z</td>\n",
       "    </tr>\n",
       "    <tr>\n",
       "      <th>3</th>\n",
       "      <td>MLA1229495352</td>\n",
       "      <td>Depto Muy Luminoso - 2 Ambientes</td>\n",
       "      <td>used</td>\n",
       "      <td>65000</td>\n",
       "      <td>2023-01-06T04:01:42.000Z</td>\n",
       "      <td>ARS</td>\n",
       "      <td>False</td>\n",
       "      <td>Argentina</td>\n",
       "      <td>Capital Federal</td>\n",
       "      <td>Capital Federal</td>\n",
       "      <td>...</td>\n",
       "      <td>-34.574127</td>\n",
       "      <td>-58.484340</td>\n",
       "      <td>1</td>\n",
       "      <td>35 m²</td>\n",
       "      <td>1</td>\n",
       "      <td>Alquiler</td>\n",
       "      <td>Departamento</td>\n",
       "      <td>2</td>\n",
       "      <td>35 m²</td>\n",
       "      <td>2022-11-07T23:42:54Z</td>\n",
       "    </tr>\n",
       "    <tr>\n",
       "      <th>4</th>\n",
       "      <td>MLA1227217684</td>\n",
       "      <td>Alquiler Departamentos 2 Ambientes Villa Gesel...</td>\n",
       "      <td>used</td>\n",
       "      <td>7800</td>\n",
       "      <td>2023-11-06T04:01:14.000Z</td>\n",
       "      <td>ARS</td>\n",
       "      <td>False</td>\n",
       "      <td>Argentina</td>\n",
       "      <td>Bs.As. Costa Atlántica</td>\n",
       "      <td>Villa Gesell</td>\n",
       "      <td>...</td>\n",
       "      <td>-37.279080</td>\n",
       "      <td>-56.984270</td>\n",
       "      <td>1</td>\n",
       "      <td>33 m²</td>\n",
       "      <td>1</td>\n",
       "      <td>Alquiler temporal</td>\n",
       "      <td>Departamento</td>\n",
       "      <td>2</td>\n",
       "      <td>38 m²</td>\n",
       "      <td>2022-11-12T14:34:40Z</td>\n",
       "    </tr>\n",
       "    <tr>\n",
       "      <th>5</th>\n",
       "      <td>MLA1228990003</td>\n",
       "      <td>Departamento - Villa Crespo</td>\n",
       "      <td>used</td>\n",
       "      <td>95000</td>\n",
       "      <td>2022-12-11T20:19:56.000Z</td>\n",
       "      <td>ARS</td>\n",
       "      <td>True</td>\n",
       "      <td>Argentina</td>\n",
       "      <td>Capital Federal</td>\n",
       "      <td>Capital Federal</td>\n",
       "      <td>...</td>\n",
       "      <td>-34.601560</td>\n",
       "      <td>-58.433075</td>\n",
       "      <td>2</td>\n",
       "      <td>48 m²</td>\n",
       "      <td>2</td>\n",
       "      <td>Alquiler</td>\n",
       "      <td>Departamento</td>\n",
       "      <td>3</td>\n",
       "      <td>51 m²</td>\n",
       "      <td>2022-11-07T14:24:10Z</td>\n",
       "    </tr>\n",
       "  </tbody>\n",
       "</table>\n",
       "<p>6 rows × 21 columns</p>\n",
       "</div>"
      ],
      "text/plain": [
       "              id                                              title condition  \\\n",
       "0  MLA1229495352                  Depto Muy Luminoso - 2 Ambientes       used   \n",
       "1  MLA1227217684  Alquiler Departamentos 2 Ambientes Villa Gesel...      used   \n",
       "2  MLA1228990003                        Departamento - Villa Crespo      used   \n",
       "3  MLA1229495352                  Depto Muy Luminoso - 2 Ambientes       used   \n",
       "4  MLA1227217684  Alquiler Departamentos 2 Ambientes Villa Gesel...      used   \n",
       "5  MLA1228990003                        Departamento - Villa Crespo      used   \n",
       "\n",
       "   price                 stop_time currency_id  seller_real_estate_agency  \\\n",
       "0  65000  2023-01-06T04:01:42.000Z         ARS                      False   \n",
       "1   7800  2023-11-06T04:01:14.000Z         ARS                      False   \n",
       "2  95000  2022-12-11T20:19:56.000Z         ARS                       True   \n",
       "3  65000  2023-01-06T04:01:42.000Z         ARS                      False   \n",
       "4   7800  2023-11-06T04:01:14.000Z         ARS                      False   \n",
       "5  95000  2022-12-11T20:19:56.000Z         ARS                       True   \n",
       "\n",
       "  location_country_name     location_state_name location_city_name  ...  \\\n",
       "0             Argentina         Capital Federal    Capital Federal  ...   \n",
       "1             Argentina  Bs.As. Costa Atlántica       Villa Gesell  ...   \n",
       "2             Argentina         Capital Federal    Capital Federal  ...   \n",
       "3             Argentina         Capital Federal    Capital Federal  ...   \n",
       "4             Argentina  Bs.As. Costa Atlántica       Villa Gesell  ...   \n",
       "5             Argentina         Capital Federal    Capital Federal  ...   \n",
       "\n",
       "  location_latitude  location_longitude  BEDROOMS COVERED_AREA FULL_BATHROOMS  \\\n",
       "0        -34.574127          -58.484340         1        35 m²              1   \n",
       "1        -37.279080          -56.984270         1        33 m²              1   \n",
       "2        -34.601560          -58.433075         2        48 m²              2   \n",
       "3        -34.574127          -58.484340         1        35 m²              1   \n",
       "4        -37.279080          -56.984270         1        33 m²              1   \n",
       "5        -34.601560          -58.433075         2        48 m²              2   \n",
       "\n",
       "           OPERATION PROPERTY_TYPE ROOMS TOTAL_AREA          last_updated  \n",
       "0           Alquiler  Departamento     2      35 m²  2022-11-07T23:42:54Z  \n",
       "1  Alquiler temporal  Departamento     2      38 m²  2022-11-12T14:34:40Z  \n",
       "2           Alquiler  Departamento     3      51 m²  2022-11-07T14:24:10Z  \n",
       "3           Alquiler  Departamento     2      35 m²  2022-11-07T23:42:54Z  \n",
       "4  Alquiler temporal  Departamento     2      38 m²  2022-11-12T14:34:40Z  \n",
       "5           Alquiler  Departamento     3      51 m²  2022-11-07T14:24:10Z  \n",
       "\n",
       "[6 rows x 21 columns]"
      ]
     },
     "execution_count": 32,
     "metadata": {},
     "output_type": "execute_result"
    }
   ],
   "source": [
    "# Juntamos dos respuestas simuladas\n",
    "df1 = pd.concat([df1,df2], ignore_index=True).drop(columns='index')\n",
    "df1"
   ]
  },
  {
   "cell_type": "markdown",
   "metadata": {},
   "source": [
    "### Vamos a buscar como iterar en la paginación de la api"
   ]
  },
  {
   "cell_type": "code",
   "execution_count": 33,
   "metadata": {},
   "outputs": [
    {
     "data": {
      "text/plain": [
       "'https://api.mercadolibre.com/sites/MLA/search?category=MLA1472&_PublishedToday_YES&limit=3&offset=0'"
      ]
     },
     "execution_count": 33,
     "metadata": {},
     "output_type": "execute_result"
    }
   ],
   "source": [
    "api"
   ]
  },
  {
   "cell_type": "markdown",
   "metadata": {},
   "source": [
    "Vamos a tener que actualizar el pedido a la api.\n",
    "Para esto modificandos los parámetros de paginación offset y limit en la url\n",
    "\n",
    "El valor máximo por solicitud para el parámetro $limit = 50$, y el valor máximo total de $offset = total/limit$\n",
    "\n"
   ]
  },
  {
   "cell_type": "code",
   "execution_count": 34,
   "metadata": {},
   "outputs": [
    {
     "data": {
      "text/plain": [
       "{'total': 277984, 'primary_results': 1000, 'offset': 0, 'limit': 3}"
      ]
     },
     "execution_count": 34,
     "metadata": {},
     "output_type": "execute_result"
    }
   ],
   "source": [
    "data['paging']"
   ]
  },
  {
   "cell_type": "code",
   "execution_count": 35,
   "metadata": {},
   "outputs": [
    {
     "name": "stdout",
     "output_type": "stream",
     "text": [
      "Para extraer toda la información a la fecha de departamentos hay que realizar 5560 consultas a la api\n"
     ]
    }
   ],
   "source": [
    "q = round(data['paging']['total']/50)\n",
    "print(f'Para extraer toda la información a la fecha de departamentos hay que realizar {q} consultas a la api')"
   ]
  },
  {
   "cell_type": "markdown",
   "metadata": {},
   "source": [
    "# Modularizamos el código"
   ]
  },
  {
   "cell_type": "code",
   "execution_count": 51,
   "metadata": {},
   "outputs": [],
   "source": [
    "def ml_url(url='https://api.mercadolibre.com', method='category', product=None, limit=50, offset=0,\n",
    "        today = False, **filters):\n",
    "    \"\"\"\n",
    "    Crea una url con los parámetros necesarios para consultar la api de Mercado Libre\n",
    "    \"\"\"\n",
    "    property_type = {\n",
    "        'departamentos': 'MLA1472',\n",
    "        'casas': 'MLA1466',\n",
    "        'terrenos_lotes': 'MLA1493',\n",
    "        'phs': 'MLA105179',\n",
    "        'locales': 'MLA79242',\n",
    "        'oficinas': 'MLA50538',\n",
    "        'depositos_galpones': 'MLA1475',\n",
    "        'cocheras': 'MLA50541',\n",
    "        'campos': 'MLA1496',\n",
    "        'quintas': 'MLA50547',\n",
    "    }\n",
    "    try:\n",
    "        if product == None:\n",
    "            raise ValueError(f'Se requiere id de producto, product = {product}')\n",
    "        # Select method\n",
    "        elif method == 'items':\n",
    "            url += f'/items/{product}'\n",
    "        elif product.lower() in property_type.keys():\n",
    "            url += f'/sites/MLA/search?{method}={property_type[product.lower()]}'\n",
    "        # Defalut\n",
    "        else:\n",
    "            url += f'/search?{method}={product.lower()}'\n",
    "\n",
    "        url += '&_PublishedToday_YES' if today else ''\n",
    "\n",
    "        if filters is not None:\n",
    "            for f, v in filters.items():\n",
    "                url += f'&{f}={v}'\n",
    "\n",
    "        url += f'&limit={limit}&offset={offset}'\n",
    "        return url\n",
    "    except ValueError as e:\n",
    "        print(f'No se pudo generar la url\\n{e}')\n",
    "        return ValueError\n",
    "\n",
    "#ml_url(product='Casas', method='category', today=True, date_from=\"2021-01-01\", date_to=\"2022-02-01\")\n"
   ]
  },
  {
   "cell_type": "code",
   "execution_count": 55,
   "metadata": {},
   "outputs": [
    {
     "data": {
      "text/plain": [
       "'https://api.mercadolibre.com/sites/MLA/search?category=MLA105179&_PublishedToday_YES&limit=3&offset=1000'"
      ]
     },
     "execution_count": 55,
     "metadata": {},
     "output_type": "execute_result"
    }
   ],
   "source": [
    "# ['Departamentos', 'Casas', 'Phs']\n",
    "ml_url(product='Phs', method='category', today =True, offset=1000, limit=3)"
   ]
  },
  {
   "cell_type": "code",
   "execution_count": 129,
   "metadata": {},
   "outputs": [
    {
     "data": {
      "text/plain": [
       "89850.66666666667"
      ]
     },
     "execution_count": 129,
     "metadata": {},
     "output_type": "execute_result"
    }
   ],
   "source": [
    "data['paging']['total']/limit"
   ]
  },
  {
   "cell_type": "code",
   "execution_count": 102,
   "metadata": {},
   "outputs": [],
   "source": [
    "# Registros por consulta a la api.\n",
    "limit = 50\n",
    "\n",
    "# Atributos que vamos a guardar.\n",
    "data_col = [\n",
    "    'id', 'title', 'condition', 'price', 'stop_time', 'currency_id',\n",
    "    'seller_real_estate_agency',\n",
    "    'location_country_name', 'location_state_name', 'location_city_name',\n",
    "    'location_neighborhood_name', 'location_latitude','location_longitude',\n",
    "    ]\n",
    "jsnPPcol = [\n",
    "    'm_id', 'last_updated',\n",
    "    ]\n",
    "jsnATTcol = [\n",
    "    'PROPERTY_TYPE', 'ROOMS', 'FULL_BATHROOMS',\n",
    "    'BEDROOMS', 'OPERATION', 'COVERED_AREA', 'TOTAL_AREA',\n",
    "    ]\n",
    "\n",
    "# Creamos el marco de datos para guardar los registros.\n",
    "df = pd.DataFrame(\n",
    "    columns = data_col +  jsnPPcol + jsnATTcol\n",
    ").drop(columns = ['m_id'])\n",
    "\n",
    "\n",
    "prop = ['Departamentos', 'Casas', 'Phs']\n",
    "for p in prop:\n",
    "    # Paginación de consulta a la api.\n",
    "    offset = 0    \n",
    "    url = ml_url(product=p, method='category', today=True, offset=offset, limit=limit)\n",
    "    r = requests.get(url)\n",
    "    \n",
    "    jsn, data = r.json(), json.loads(r.content)\n",
    "\n",
    "    #_pag_tot = round(data['paging']['total']/limit) \n",
    "    \n",
    "    # get = 200 # debug mode\n",
    "    while  r.status_code == 200:# and _pag_tot > 0:\n",
    "        # Colectamos la data de interes\n",
    "        dd = pd.json_normalize(data, record_path=['results'], sep='_')[data_col]\n",
    "        \n",
    "        dp = pd.json_normalize(jsn['results'],\n",
    "                ['prices', 'prices'], meta='id', meta_prefix='m_')[jsnPPcol]\n",
    "        \n",
    "        da = pd.json_normalize(jsn['results'],\n",
    "                'attributes', meta='id', meta_prefix='m_') \n",
    "\n",
    "        da = da.loc[da.id.isin(jsnATTcol),\n",
    "                    ['m_id', 'id', 'value_name']\n",
    "                ].pivot(index='m_id', columns='id', values='value_name')\n",
    "\n",
    "        da.reset_index(inplace=True)\n",
    "\n",
    "        # Armamos el marco de datos\n",
    "        _df = dd.merge(da, left_on='id', right_on='m_id', how='left')\n",
    "        _df = _df.merge(dp, left_on='id', right_on='m_id', how='left')\n",
    "        _df.drop(columns=['m_id_x', 'm_id_y'], inplace=True)\n",
    "\n",
    "        # Juntamos la información\n",
    "        df = pd.concat([df,_df], ignore_index=True)\n",
    "        \n",
    "        # Pausamos el código apara que no se enoje Juan Carlos ML.\n",
    "        #time.sleep(0.5)\n",
    "        \n",
    "        offset += 1\n",
    "        # Actualizamos url\n",
    "        url = ml_url(product=p, method='category', today=True, offset=offset, limit=limit)\n",
    "        r = requests.get(url)\n",
    "        jsn, data = r.json(), json.loads(r.content)\n",
    "\n",
    "        #_pag_tot -= 1\n",
    "\n",
    "    time.sleep(10)\n"
   ]
  },
  {
   "cell_type": "code",
   "execution_count": 110,
   "metadata": {},
   "outputs": [
    {
     "data": {
      "text/plain": [
       "(142650, 21)"
      ]
     },
     "execution_count": 110,
     "metadata": {},
     "output_type": "execute_result"
    }
   ],
   "source": [
    "df.shape\n"
   ]
  },
  {
   "cell_type": "code",
   "execution_count": 111,
   "metadata": {},
   "outputs": [
    {
     "data": {
      "text/plain": [
       "(139605, 3045)"
      ]
     },
     "execution_count": 111,
     "metadata": {},
     "output_type": "execute_result"
    }
   ],
   "source": [
    "t, f = df.duplicated().value_counts()\n",
    "t,f"
   ]
  },
  {
   "cell_type": "code",
   "execution_count": 112,
   "metadata": {},
   "outputs": [
    {
     "data": {
      "text/plain": [
       "array(['Departamento', 'Casa', 'Ph'], dtype=object)"
      ]
     },
     "execution_count": 112,
     "metadata": {},
     "output_type": "execute_result"
    }
   ],
   "source": [
    "df.PROPERTY_TYPE.unique()"
   ]
  },
  {
   "cell_type": "code",
   "execution_count": 109,
   "metadata": {},
   "outputs": [],
   "source": [
    "df.to_csv('../Data/properties_ml.csv')"
   ]
  },
  {
   "cell_type": "code",
   "execution_count": 113,
   "metadata": {},
   "outputs": [],
   "source": [
    "# Para buscar por nombre de columna\n",
    "# df.iloc[:,df.columns.str.contains('av', regex=True)].columns.tolist()"
   ]
  }
 ],
 "metadata": {
  "kernelspec": {
   "display_name": "Python 3 (ipykernel)",
   "language": "python",
   "name": "python3"
  },
  "language_info": {
   "codemirror_mode": {
    "name": "ipython",
    "version": 3
   },
   "file_extension": ".py",
   "mimetype": "text/x-python",
   "name": "python",
   "nbconvert_exporter": "python",
   "pygments_lexer": "ipython3",
   "version": "3.9.16"
  },
  "vscode": {
   "interpreter": {
    "hash": "6bd89e60d51315fb555c9a70d508a05468e1ff8576e1fc2c5b84d3255ee2551d"
   }
  }
 },
 "nbformat": 4,
 "nbformat_minor": 2
}
