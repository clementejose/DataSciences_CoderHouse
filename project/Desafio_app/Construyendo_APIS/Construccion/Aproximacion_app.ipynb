{
 "cells": [
  {
   "cell_type": "markdown",
   "metadata": {},
   "source": [
    "# API Mercado libre (ML_api)\n",
    "\n",
    "Pruebas mínimas para la extraer consultas de la api de ML"
   ]
  },
  {
   "cell_type": "code",
   "execution_count": 1,
   "metadata": {},
   "outputs": [],
   "source": [
    "# Imports necesarios\n",
    "import requests\n",
    "from bs4 import BeautifulSoup\n",
    "import re\n",
    "from lxml import etree\n",
    "import pandas as pd"
   ]
  },
  {
   "cell_type": "code",
   "execution_count": 2,
   "metadata": {},
   "outputs": [],
   "source": [
    "r = requests.get(\"https://listado.mercadolibre.com.ar/departamento\")"
   ]
  },
  {
   "cell_type": "code",
   "execution_count": 3,
   "metadata": {},
   "outputs": [
    {
     "data": {
      "text/plain": [
       "200"
      ]
     },
     "execution_count": 3,
     "metadata": {},
     "output_type": "execute_result"
    }
   ],
   "source": [
    "r.status_code"
   ]
  },
  {
   "cell_type": "code",
   "execution_count": 4,
   "metadata": {},
   "outputs": [],
   "source": [
    "soup = BeautifulSoup(r.content, 'html.parser')"
   ]
  },
  {
   "cell_type": "markdown",
   "metadata": {},
   "source": [
    "<div class=\"alert alert-block alert-success\">\n",
    "    <b>To do:</b>\n",
    "    ver //li[@class=\"ui-search-layout__item\"]\n",
    "    esta clase me trae todo el contenido en el post de portada\n",
    "</div>\n",
    "\n",
    "Entran 48 publicaciones por página y hay 42 páginas."
   ]
  },
  {
   "cell_type": "code",
   "execution_count": 5,
   "metadata": {},
   "outputs": [
    {
     "data": {
      "text/plain": [
       "'Alquiler Dpto Av Raul Scalabrini Ortiz 500. Caba'"
      ]
     },
     "execution_count": 5,
     "metadata": {},
     "output_type": "execute_result"
    }
   ],
   "source": [
    "titulos = soup.find_all(\"h2\", attrs={\"class\": \"ui-search-item__title ui-search-item__group__element shops__items-group-details shops__item-title\"})\n",
    "\n",
    "titulos = [t.text for t in titulos]\n",
    "titulos[0]"
   ]
  },
  {
   "cell_type": "code",
   "execution_count": 6,
   "metadata": {},
   "outputs": [
    {
     "data": {
      "text/plain": [
       "'85000 pesos$85.00039 m² cubiertos2 ambs.Departamento en alquilerAlquiler Dpto Av Raul Scalabrini Ortiz 500. CabaAv. Raúl Scalabrini Ortíz 500, Dns, Buenos Aires, Argentina, Villa Crespo, Capital Federal'"
      ]
     },
     "execution_count": 6,
     "metadata": {},
     "output_type": "execute_result"
    }
   ],
   "source": [
    "# encuntra todo el copete de la publicación\n",
    "short_des = soup.find_all(\"a\", {\"class\": \"ui-search-result__content ui-search-link\"})#\"price-tag-text-sr-only\"})#\"price-t\n",
    "\n",
    "short_des = [sd.text for sd in short_des]\n",
    "short_des[0]"
   ]
  },
  {
   "cell_type": "code",
   "execution_count": 7,
   "metadata": {},
   "outputs": [
    {
     "data": {
      "text/plain": [
       "'85000 pesos'"
      ]
     },
     "execution_count": 7,
     "metadata": {},
     "output_type": "execute_result"
    }
   ],
   "source": [
    "#//li[@class=\"ui-search-layout__item\"]//span[@class=\"price-tag-text-sr-only\"]\n",
    "dom = etree.HTML(str(soup))\n",
    "price = dom.xpath('//li[@class=\"ui-search-layout__item\"]//span[@class=\"price-tag-text-sr-only\"]')\n",
    "\n",
    "price = [p.text for p in price]\n",
    "price[0]"
   ]
  },
  {
   "cell_type": "code",
   "execution_count": 8,
   "metadata": {},
   "outputs": [
    {
     "data": {
      "text/plain": [
       "'Av. Raúl Scalabrini Ortíz 500, Dns, Buenos Aires, Argentina, Villa Crespo, Capital Federal'"
      ]
     },
     "execution_count": 8,
     "metadata": {},
     "output_type": "execute_result"
    }
   ],
   "source": [
    "# //li[@class=\"ui-search-layout__item\"]/div/div/a[@class=\"ui-search-result__content ui-search-link\"]//div//div//span[@class=\"ui-search-item__group__element ui-search-item__location shops__items-group-details\"]\n",
    "address = dom.xpath('//li[@class=\"ui-search-layout__item\"]/div/div/a[@class=\"ui-search-result__content ui-search-link\"]//div//div//span[@class=\"ui-search-item__group__element ui-search-item__location shops__items-group-details\"]')\n",
    "\n",
    "address = [a.text for a in address]\n",
    "address[0]"
   ]
  },
  {
   "cell_type": "code",
   "execution_count": 9,
   "metadata": {},
   "outputs": [
    {
     "data": {
      "text/plain": [
       "'39 m² cubiertos2 ambs.'"
      ]
     },
     "execution_count": 9,
     "metadata": {},
     "output_type": "execute_result"
    }
   ],
   "source": [
    "# //ul[@class=\"ui-search-card-attributes ui-search-item__group__element shops__items-group-details\"]\n",
    "supcover_room = soup.find_all(\"ul\", {\"class\": \"ui-search-card-attributes ui-search-item__group__element shops__items-group-details\"})\n",
    "\n",
    "supcover_room = [sr.text for sr in supcover_room]\n",
    "supcover_room[0]"
   ]
  },
  {
   "cell_type": "code",
   "execution_count": 10,
   "metadata": {},
   "outputs": [],
   "source": [
    "#df = pd.DataFrame({'title': titulos, 'description': short_des, 'address': address, 'supcover_room': supcover_room})"
   ]
  },
  {
   "cell_type": "code",
   "execution_count": 11,
   "metadata": {},
   "outputs": [],
   "source": [
    "xpth = '//div[@class=\"ui-search-pagination shops__pagination-content\"]/ul/li[contains(@class,\"--next\")]/a'\n",
    "siguiente = dom.xpath(xpth)[0].get('href')"
   ]
  },
  {
   "cell_type": "code",
   "execution_count": 12,
   "metadata": {},
   "outputs": [],
   "source": [
    "# //span[@class=\"andes-pagination__link\"]\n",
    "ini = soup.find_all(\"span\", attrs={\"class\": \"andes-pagination__link\"})[0].text\n",
    "ini = int(ini)"
   ]
  },
  {
   "cell_type": "code",
   "execution_count": 13,
   "metadata": {},
   "outputs": [],
   "source": [
    "tot = soup.find_all(\"li\", attrs={\"class\": \"andes-pagination__page-count\"})[0].text.split()[1]\n",
    "tot = int(tot)"
   ]
  },
  {
   "cell_type": "code",
   "execution_count": 14,
   "metadata": {},
   "outputs": [],
   "source": [
    "l_title = []\n",
    "l_descrip = []\n",
    "l_address = []\n",
    "l_surface = []\n",
    "l_price = []"
   ]
  },
  {
   "cell_type": "code",
   "execution_count": 15,
   "metadata": {},
   "outputs": [
    {
     "name": "stdout",
     "output_type": "stream",
     "text": [
      "1 42\n",
      "2 42\n",
      "3 42\n",
      "4 42\n",
      "5 42\n",
      "6 42\n",
      "7 42\n",
      "8 42\n",
      "9 42\n",
      "10 42\n",
      "11 42\n",
      "12 42\n",
      "13 42\n",
      "14 42\n",
      "15 42\n",
      "16 42\n",
      "17 42\n",
      "18 42\n",
      "19 42\n",
      "20 42\n",
      "21 42\n",
      "22 42\n",
      "23 42\n",
      "24 42\n",
      "25 42\n",
      "26 42\n",
      "27 42\n",
      "28 42\n",
      "29 42\n",
      "30 42\n",
      "31 42\n",
      "32 42\n",
      "33 42\n",
      "34 42\n",
      "35 42\n",
      "36 42\n",
      "37 42\n",
      "38 42\n",
      "39 42\n",
      "40 42\n",
      "41 42\n",
      "42 42\n"
     ]
    }
   ],
   "source": [
    "siguiente = 'https://listado.mercadolibre.com.ar/departamento' \n",
    "while True:\n",
    "    r = requests.get(siguiente)\n",
    "    if r.status_code == 200:\n",
    "        soup = BeautifulSoup(r.content, 'html.parser')\n",
    "        #Titulos\n",
    "        titles = soup.find_all(\"h2\", attrs={\"class\": \"ui-search-item__title ui-search-item__group__element shops__items-group-details shops__item-title\"})\n",
    "        titles = [t.text for t in titles]\n",
    "        l_title.extend(titles)\n",
    "        # Descripción\n",
    "        short_des = soup.find_all(\"a\", {\"class\": \"ui-search-result__content ui-search-link\"})#\"price-tag-text-sr-only\"})#\"price-t\n",
    "        short_des = [sd.text for sd in short_des]\n",
    "        l_descrip.extend(short_des)\n",
    "        # Dirección\n",
    "        dom = etree.HTML(str(soup))\n",
    "        address = dom.xpath('//li[@class=\"ui-search-layout__item\"]/div/div/a[@class=\"ui-search-result__content ui-search-link\"]//div//div//span[@class=\"ui-search-item__group__element ui-search-item__location shops__items-group-details\"]')\n",
    "        address = [a.text for a in address]\n",
    "        l_address.extend(address)\n",
    "        # Superficie\n",
    "        surfcover_room = soup.find_all(\"ul\", {\"class\": \"ui-search-card-attributes ui-search-item__group__element shops__items-group-details\"})\n",
    "        surfcover_room = [sr.text for sr in surfcover_room]\n",
    "        l_surface.extend(surfcover_room)\n",
    "        # Precios\n",
    "        dom = etree.HTML(str(soup))\n",
    "        price = dom.xpath('//li[@class=\"ui-search-layout__item\"]//span[@class=\"price-tag-text-sr-only\"]')\n",
    "        price = [p.text for p in price]\n",
    "        l_price.extend(price)\n",
    "        \n",
    "        # Validación de la ppaginación\n",
    "        ini = soup.find_all(\"span\", attrs={\"class\": \"andes-pagination__link\"})[0].text\n",
    "        ini = int(ini)\n",
    "        tot = soup.find_all(\"li\", attrs={\"class\": \"andes-pagination__page-count\"})[0].text.split()[1]\n",
    "        tot = int(tot)\n",
    "        \n",
    "    else:\n",
    "        break\n",
    "    print(ini, tot)\n",
    "    if ini == tot:\n",
    "        break\n",
    "    siguiente = dom.xpath('//div[@class=\"ui-search-pagination shops__pagination-content\"]/ul/li[contains(@class,\"--next\")]/a')[0].get('href')\n",
    "        "
   ]
  },
  {
   "cell_type": "code",
   "execution_count": 16,
   "metadata": {},
   "outputs": [
    {
     "name": "stdout",
     "output_type": "stream",
     "text": [
      "2016\n",
      "2016\n",
      "2016\n",
      "2016\n",
      "2016\n"
     ]
    }
   ],
   "source": [
    "print(len(l_title))\n",
    "print(len(l_descrip))\n",
    "print(len(l_address))\n",
    "print(len(l_surface))\n",
    "print(len(l_price))"
   ]
  },
  {
   "cell_type": "code",
   "execution_count": 17,
   "metadata": {},
   "outputs": [],
   "source": [
    "df = pd.DataFrame({'title': titulos,\n",
    "                   'description': short_des,\n",
    "                   'address': address,\n",
    "                   'supcover_room': supcover_room}\n",
    "                 )"
   ]
  },
  {
   "cell_type": "code",
   "execution_count": 18,
   "metadata": {},
   "outputs": [
    {
     "name": "stdout",
     "output_type": "stream",
     "text": [
      "<class 'pandas.core.frame.DataFrame'>\n",
      "RangeIndex: 48 entries, 0 to 47\n",
      "Data columns (total 4 columns):\n",
      " #   Column         Non-Null Count  Dtype \n",
      "---  ------         --------------  ----- \n",
      " 0   title          48 non-null     object\n",
      " 1   description    48 non-null     object\n",
      " 2   address        48 non-null     object\n",
      " 3   supcover_room  48 non-null     object\n",
      "dtypes: object(4)\n",
      "memory usage: 1.6+ KB\n"
     ]
    }
   ],
   "source": [
    "df.info()"
   ]
  },
  {
   "cell_type": "code",
   "execution_count": 19,
   "metadata": {},
   "outputs": [
    {
     "data": {
      "text/html": [
       "<div>\n",
       "<style scoped>\n",
       "    .dataframe tbody tr th:only-of-type {\n",
       "        vertical-align: middle;\n",
       "    }\n",
       "\n",
       "    .dataframe tbody tr th {\n",
       "        vertical-align: top;\n",
       "    }\n",
       "\n",
       "    .dataframe thead th {\n",
       "        text-align: right;\n",
       "    }\n",
       "</style>\n",
       "<table border=\"1\" class=\"dataframe\">\n",
       "  <thead>\n",
       "    <tr style=\"text-align: right;\">\n",
       "      <th></th>\n",
       "      <th>title</th>\n",
       "      <th>description</th>\n",
       "      <th>address</th>\n",
       "      <th>supcover_room</th>\n",
       "    </tr>\n",
       "  </thead>\n",
       "  <tbody>\n",
       "    <tr>\n",
       "      <th>34</th>\n",
       "      <td>Tour Virtual Departamento En Venta 2 Ambientes...</td>\n",
       "      <td>18000 pesos$18.00050 m² cubiertos2 ambs.Depart...</td>\n",
       "      <td>Tucumán 3527, Aaq, Buenos Aires, Argentina, Pa...</td>\n",
       "      <td>34 m² cubiertos2 ambs.</td>\n",
       "    </tr>\n",
       "    <tr>\n",
       "      <th>17</th>\n",
       "      <td>Venta Departamento 2 Ambientes Puerto De Olivo...</td>\n",
       "      <td>7000 pesos$7.00025 m² cubiertos1 amb.Departame...</td>\n",
       "      <td>Numero 3 1025, Santa Teresita, Bs.as. Costa At...</td>\n",
       "      <td>78 m² cubiertos2 ambs.</td>\n",
       "    </tr>\n",
       "    <tr>\n",
       "      <th>44</th>\n",
       "      <td>Tour Virtual Departamento 2 Ambientes En Venta...</td>\n",
       "      <td>65 pesos$6534 m² cubiertos1 amb.Departamento e...</td>\n",
       "      <td>Colon 1825, Plaza Colón, Mar Del Plata, Bs.as....</td>\n",
       "      <td>45 m² totales2 ambs.</td>\n",
       "    </tr>\n",
       "    <tr>\n",
       "      <th>12</th>\n",
       "      <td>Venta Departamento 2 Ambientes - Moron (3°c)</td>\n",
       "      <td>40 dólaresU$S4060 m² cubiertos3 ambs.Departame...</td>\n",
       "      <td>Alsina 139, Ramos Mejía, La Matanza, Bs.as. G....</td>\n",
       "      <td>40 m² cubiertos2 ambs.</td>\n",
       "    </tr>\n",
       "    <tr>\n",
       "      <th>1</th>\n",
       "      <td>Departamento Casi A Estrenar-impecable-super L...</td>\n",
       "      <td>123 pesos$12340 m² cubiertos3 ambs.Departament...</td>\n",
       "      <td>Corrientes 1700, Centro, Mar Del Plata, Bs.as....</td>\n",
       "      <td>24 m² cubiertos1 amb.</td>\n",
       "    </tr>\n",
       "    <tr>\n",
       "      <th>7</th>\n",
       "      <td>Chacabuco Esquina Alsina. 3 Amb Con Dependenci...</td>\n",
       "      <td>100 dólaresU$S10040 m² cubiertos1 amb.Departam...</td>\n",
       "      <td>Gorlero 500, Punta Del Este, Maldonado, Uruguay</td>\n",
       "      <td>95 m² cubiertos3 ambs.</td>\n",
       "    </tr>\n",
       "    <tr>\n",
       "      <th>25</th>\n",
       "      <td>Departamento  En Alq. Temporario En Puerto Mad...</td>\n",
       "      <td>138000 pesos$138.00051 m² cubiertos3 ambs.Depa...</td>\n",
       "      <td>Bahía Blanca 3332, Villa Devoto, Buenos Aires,...</td>\n",
       "      <td>300 m² cubiertos6 ambs.</td>\n",
       "    </tr>\n",
       "    <tr>\n",
       "      <th>41</th>\n",
       "      <td>Espectacular Piso Alto En   Edificio Aisenson ...</td>\n",
       "      <td>45000 dólaresU$S45.00039 m² cubiertos2 ambs.De...</td>\n",
       "      <td>C. 124 106, Villa Gesell, Provincia De Buenos ...</td>\n",
       "      <td>263 m² cubiertos5 ambs.</td>\n",
       "    </tr>\n",
       "    <tr>\n",
       "      <th>28</th>\n",
       "      <td>Departamento En Alquiler Caballito Cinco 5 Amb...</td>\n",
       "      <td>10000 pesos$10.00035 m² cubiertos1 amb.Departa...</td>\n",
       "      <td>Rio De Janeiro 59, La Quinta Primera Sección, ...</td>\n",
       "      <td>104 m² cubiertos5 ambs.</td>\n",
       "    </tr>\n",
       "    <tr>\n",
       "      <th>8</th>\n",
       "      <td>Venta 4 Ambientes En Caballito, Con Balcón Cor...</td>\n",
       "      <td>10000 pesos$10.00040 m² cubiertos2 ambs.Depart...</td>\n",
       "      <td>Vqc6+cm San Carlos De Bariloche, Río Negro, Ar...</td>\n",
       "      <td>70 m² cubiertos4 ambs.</td>\n",
       "    </tr>\n",
       "  </tbody>\n",
       "</table>\n",
       "</div>"
      ],
      "text/plain": [
       "                                                title  \\\n",
       "34  Tour Virtual Departamento En Venta 2 Ambientes...   \n",
       "17  Venta Departamento 2 Ambientes Puerto De Olivo...   \n",
       "44  Tour Virtual Departamento 2 Ambientes En Venta...   \n",
       "12       Venta Departamento 2 Ambientes - Moron (3°c)   \n",
       "1   Departamento Casi A Estrenar-impecable-super L...   \n",
       "7   Chacabuco Esquina Alsina. 3 Amb Con Dependenci...   \n",
       "25  Departamento  En Alq. Temporario En Puerto Mad...   \n",
       "41  Espectacular Piso Alto En   Edificio Aisenson ...   \n",
       "28  Departamento En Alquiler Caballito Cinco 5 Amb...   \n",
       "8   Venta 4 Ambientes En Caballito, Con Balcón Cor...   \n",
       "\n",
       "                                          description  \\\n",
       "34  18000 pesos$18.00050 m² cubiertos2 ambs.Depart...   \n",
       "17  7000 pesos$7.00025 m² cubiertos1 amb.Departame...   \n",
       "44  65 pesos$6534 m² cubiertos1 amb.Departamento e...   \n",
       "12  40 dólaresU$S4060 m² cubiertos3 ambs.Departame...   \n",
       "1   123 pesos$12340 m² cubiertos3 ambs.Departament...   \n",
       "7   100 dólaresU$S10040 m² cubiertos1 amb.Departam...   \n",
       "25  138000 pesos$138.00051 m² cubiertos3 ambs.Depa...   \n",
       "41  45000 dólaresU$S45.00039 m² cubiertos2 ambs.De...   \n",
       "28  10000 pesos$10.00035 m² cubiertos1 amb.Departa...   \n",
       "8   10000 pesos$10.00040 m² cubiertos2 ambs.Depart...   \n",
       "\n",
       "                                              address            supcover_room  \n",
       "34  Tucumán 3527, Aaq, Buenos Aires, Argentina, Pa...   34 m² cubiertos2 ambs.  \n",
       "17  Numero 3 1025, Santa Teresita, Bs.as. Costa At...   78 m² cubiertos2 ambs.  \n",
       "44  Colon 1825, Plaza Colón, Mar Del Plata, Bs.as....     45 m² totales2 ambs.  \n",
       "12  Alsina 139, Ramos Mejía, La Matanza, Bs.as. G....   40 m² cubiertos2 ambs.  \n",
       "1   Corrientes 1700, Centro, Mar Del Plata, Bs.as....    24 m² cubiertos1 amb.  \n",
       "7     Gorlero 500, Punta Del Este, Maldonado, Uruguay   95 m² cubiertos3 ambs.  \n",
       "25  Bahía Blanca 3332, Villa Devoto, Buenos Aires,...  300 m² cubiertos6 ambs.  \n",
       "41  C. 124 106, Villa Gesell, Provincia De Buenos ...  263 m² cubiertos5 ambs.  \n",
       "28  Rio De Janeiro 59, La Quinta Primera Sección, ...  104 m² cubiertos5 ambs.  \n",
       "8   Vqc6+cm San Carlos De Bariloche, Río Negro, Ar...   70 m² cubiertos4 ambs.  "
      ]
     },
     "execution_count": 19,
     "metadata": {},
     "output_type": "execute_result"
    }
   ],
   "source": [
    "df.sample(10)"
   ]
  },
  {
   "cell_type": "code",
   "execution_count": null,
   "metadata": {},
   "outputs": [],
   "source": []
  }
 ],
 "metadata": {
  "kernelspec": {
   "display_name": "Python 3 (ipykernel)",
   "language": "python",
   "name": "python3"
  },
  "language_info": {
   "codemirror_mode": {
    "name": "ipython",
    "version": 3
   },
   "file_extension": ".py",
   "mimetype": "text/x-python",
   "name": "python",
   "nbconvert_exporter": "python",
   "pygments_lexer": "ipython3",
   "version": "3.9.16"
  },
  "vscode": {
   "interpreter": {
    "hash": "6bd89e60d51315fb555c9a70d508a05468e1ff8576e1fc2c5b84d3255ee2551d"
   }
  }
 },
 "nbformat": 4,
 "nbformat_minor": 2
}
